{
 "cells": [
  {
   "cell_type": "markdown",
   "metadata": {},
   "source": [
    "## Imports"
   ]
  },
  {
   "cell_type": "markdown",
   "metadata": {},
   "source": [
    "https://github.com/IBMDecisionOptimization/docplex-examples/blob/master/examples/mp/jupyter/tutorials/Linear_Programming.ipynb\n",
    "\n",
    "\n",
    "Integer Optimization:\n",
    "- https://github.com/IBMDecisionOptimization/docplex-examples/blob/master/examples/mp/jupyter/tutorials/Beyond_Linear_Programming.ipynb"
   ]
  },
  {
   "cell_type": "code",
   "execution_count": 1,
   "metadata": {},
   "outputs": [],
   "source": [
    "from docplex.mp.model import Model\n",
    "import numpy as np\n",
    "import pandas as pd"
   ]
  },
  {
   "cell_type": "code",
   "execution_count": 40,
   "metadata": {},
   "outputs": [],
   "source": [
    "# load data\n",
    "\n",
    "players = pd.read_csv(\"../data/processed-data/0_selection_players.csv\", index_col=0)\n",
    "n_players = players.shape[0]\n",
    "salaries = pd.read_csv(\"../data/processed-data/0_selection_salary.csv\", index_col=0,).drop('Player', axis=1).values\n",
    "n_time = salaries.shape[1]\n",
    "n_trials = int(salaries.shape[0]/n_players)\n",
    "salaries = salaries.reshape((n_trials, n_players, n_time))\n",
    "market_values = salaries/0.1\n",
    "\n",
    "n_time = 1\n",
    "salaries = salaries[:, :, :n_time]\n",
    "market_values = market_values[:, :, :n_time]\n",
    "\n",
    "\n",
    "# Set up all players\n",
    "# use binary var cube\n",
    "# (time, player, and simulation)\n",
    "\n",
    "\n",
    "# set up goalkeeping separately\n",
    "# set up DF, MF and Fw using separate dataset\n",
    "\n"
   ]
  },
  {
   "cell_type": "code",
   "execution_count": 41,
   "metadata": {},
   "outputs": [
    {
     "data": {
      "text/plain": [
       "(3, 2822, 1)"
      ]
     },
     "execution_count": 41,
     "metadata": {},
     "output_type": "execute_result"
    }
   ],
   "source": [
    "salaries.shape"
   ]
  },
  {
   "cell_type": "code",
   "execution_count": 42,
   "metadata": {},
   "outputs": [],
   "source": [
    "# create model\n",
    "ftcp = Model(name = \"Rarita Football Team Composition\")\n",
    "\n",
    "max_age = 40\n",
    "starting_budget = 15000000\n",
    "rho = 0.05\n",
    "\n",
    "time = np.arange(n_time)\n",
    "trials = np.arange(n_trials)"
   ]
  },
  {
   "cell_type": "code",
   "execution_count": 43,
   "metadata": {},
   "outputs": [],
   "source": [
    "# Decision variables\n",
    "# assigned = ftcp.binary_var_matrix(keys1=players.index.values, keys2=time, keys3=trials, name = \"assign_%s_%s_%s\")\n",
    "assigned = ftcp.binary_var_matrix(keys1=players.index.values, keys2=time, name = \"assign_%s_%s\")\n",
    "\n",
    "budget = ftcp.continuous_var_list(keys = time, name = \"Budget_%s\", lb=0)\n",
    "team_value = ftcp.continuous_var_list(keys = time, name = \"Team Value_%s\")\n",
    "\n",
    "sunset_value = ftcp.continuous_var(name = \"Sunset Value_\")\n",
    "optim_value = ftcp.continuous_var(name = \"Expectation of Team Value\")"
   ]
  },
  {
   "cell_type": "code",
   "execution_count": 44,
   "metadata": {},
   "outputs": [],
   "source": [
    "# Non decision variables\n",
    "# Total number of players\n",
    "N_total = ftcp.integer_var_list(keys = time, name = 'Total number of Players_%s', lb=22, ub=25)\n",
    "\n",
    "# Number of players in each role\n",
    "N_gk = ftcp.integer_var_list(keys = time, name = \"Number of goalkeepers_%s\", lb=2, ub=3)\n",
    "N_df = ftcp.integer_var_list(keys = time, name = \"Number of defenders_%s\", lb=8, ub=10)\n",
    "N_mf = ftcp.integer_var_list(keys = time, name = \"Number of midfielders_%s\", lb=8, ub=10)\n",
    "N_fw = ftcp.integer_var_list(keys = time, name = \"Number of forwards_%s\", lb=3, ub=4)       "
   ]
  },
  {
   "cell_type": "code",
   "execution_count": 45,
   "metadata": {},
   "outputs": [
    {
     "data": {
      "text/plain": [
       "docplex.mp.LinearConstraint[](Expectation of Team Value,EQ,Team Value_0+Sunset Value_)"
      ]
     },
     "execution_count": 45,
     "metadata": {},
     "output_type": "execute_result"
    }
   ],
   "source": [
    "# Set up Constraints for number of players\n",
    "for year in time:\n",
    "    \n",
    "    previous_budget = starting_budget if year == 0 else budget[year-1]   \n",
    "    ftcp.add_constraint(budget[year] == previous_budget \n",
    "                        - ftcp.sum(assigned[index, year] * salaries[0, index, year] for index in range(n_players)))\n",
    "    \n",
    "    # Team value = Player values - Wages + Borrowing - Lending\n",
    "    ftcp.add_constraint(team_value[year] == ftcp.sum(assigned[index, year] * market_values[0, index, year] for index in range(n_players))/((1 + rho)**year)\n",
    "                        - ftcp.sum(assigned[index, year] * salaries[0, index, year] for index in range(n_players)))\n",
    "    \n",
    "    ftcp.add_constraint(N_gk[year] == ftcp.sum(assigned[index, year] * player['GK'] for index, player in players.iterrows()))\n",
    "    ftcp.add_constraint(N_df[year] == ftcp.sum(assigned[index, year] * player['DF'] for index, player in players.iterrows()))\n",
    "    ftcp.add_constraint(N_mf[year] == ftcp.sum(assigned[index, year] * player['MF'] for index, player in players.iterrows()))\n",
    "    ftcp.add_constraint(N_fw[year] == ftcp.sum(assigned[index, year] * player['FW'] for index, player in players.iterrows()))\n",
    "    ftcp.add_constraint(N_gk[year] + N_df[year] + N_mf[year] + N_fw[year] == N_total[year])\n",
    "\n",
    "    for index, player in players.iterrows():\n",
    "        ftcp.add_constraint(assigned[index, year] * (player['Age'] + year) <= max_age )\n",
    "        \n",
    "ftcp.add_constraint(sunset_value == ftcp.sum(assigned[index, time[-1]] * market_values[0, index, time[-1]] for index in range(n_players))/((1 + rho)**(n_time)))\n",
    "ftcp.add_constraint(optim_value == ftcp.sum(team_value) + sunset_value)"
   ]
  },
  {
   "cell_type": "code",
   "execution_count": 51,
   "metadata": {},
   "outputs": [
    {
     "name": "stdout",
     "output_type": "stream",
     "text": [
      "Model: Rarita Football Team Composition\n",
      " - number of variables: 2831\n",
      "   - binary=2822, integer=5, continuous=4\n",
      " - number of constraints: 2831\n",
      "   - linear=2831\n",
      " - parameters: defaults\n",
      " - objective: maximize\n",
      " - problem type is: MILP\n"
     ]
    }
   ],
   "source": [
    "ftcp.maximize(optim_value)\n",
    "ftcp.print_information()"
   ]
  },
  {
   "cell_type": "code",
   "execution_count": 52,
   "metadata": {},
   "outputs": [
    {
     "name": "stdout",
     "output_type": "stream",
     "text": [
      "Version identifier: 20.1.0.0 | 2020-11-10 | 9bedb6d68\n",
      "CPXPARAM_Read_DataCheck                          1\n",
      "Tried aggregator 1 time.\n",
      "MIP Presolve eliminated 2824 rows and 2005 columns.\n",
      "MIP Presolve added 132 rows and 132 columns.\n",
      "MIP Presolve modified 28 coefficients.\n",
      "Reduced MIP has 139 rows, 958 columns, and 3175 nonzeros.\n",
      "Reduced MIP has 807 binaries, 150 generals, 0 SOSs, and 0 indicators.\n",
      "Presolve time = 0.01 sec. (4.80 ticks)\n",
      "Found incumbent of value 2.7581952e+08 after 0.03 sec. (15.14 ticks)\n",
      "Probing fixed 118 vars, tightened 165 bounds.\n",
      "Probing time = 0.14 sec. (64.83 ticks)\n",
      "Tried aggregator 1 time.\n",
      "MIP Presolve eliminated 133 rows and 250 columns.\n",
      "MIP Presolve added 152 rows and 152 columns.\n",
      "Reduced MIP has 158 rows, 860 columns, and 2129 nonzeros.\n",
      "Reduced MIP has 754 binaries, 105 generals, 0 SOSs, and 0 indicators.\n",
      "Presolve time = 0.08 sec. (1.99 ticks)\n",
      "Probing time = 0.01 sec. (4.51 ticks)\n",
      "Cover probing fixed 0 vars, tightened 34 bounds.\n",
      "Tried aggregator 1 time.\n",
      "Detecting symmetries...\n",
      "MIP Presolve eliminated 152 rows and 152 columns.\n",
      "MIP Presolve added 152 rows and 152 columns.\n",
      "Reduced MIP has 158 rows, 860 columns, and 2129 nonzeros.\n",
      "Reduced MIP has 786 binaries, 74 generals, 0 SOSs, and 0 indicators.\n",
      "Presolve time = 0.01 sec. (1.62 ticks)\n",
      "Probing time = 0.01 sec. (4.52 ticks)\n",
      "Clique table members: 107.\n",
      "MIP emphasis: balance optimality and feasibility.\n",
      "MIP search method: dynamic search.\n",
      "Parallel mode: deterministic, using up to 4 threads.\n",
      "Root relaxation solution time = 0.00 sec. (0.88 ticks)\n",
      "\n",
      "        Nodes                                         Cuts/\n",
      "   Node  Left     Objective  IInf  Best Integer    Best Bound    ItCnt     Gap\n",
      "\n",
      "*     0+    0                       2.75820e+08   5.42893e+10              --- \n",
      "      0     0   2.77857e+08     2   2.75820e+08   2.77857e+08        8    0.74%\n",
      "*     0+    0                       2.76190e+08   2.77857e+08             0.60%\n",
      "      0     0   2.77857e+08     5   2.76190e+08       Cuts: 2       13    0.60%\n",
      "      0     0   2.77857e+08     3   2.76190e+08    MIRcuts: 1       15    0.60%\n",
      "      0     0   2.77857e+08     5   2.76190e+08    MIRcuts: 2       18    0.60%\n",
      "Detecting symmetries...\n",
      "      0     2   2.77857e+08     5   2.76190e+08   2.77857e+08       18    0.60%\n",
      "Elapsed time = 0.51 sec. (116.57 ticks, tree = 0.02 MB, solutions = 2)\n",
      "*     7+    2                       2.77857e+08   2.77857e+08             0.00%\n",
      "\n",
      "Mixed integer rounding cuts applied:  4\n",
      "\n",
      "Root node processing (before b&c):\n",
      "  Real time             =    0.51 sec. (116.47 ticks)\n",
      "Parallel b&c, 4 threads:\n",
      "  Real time             =    0.03 sec. (4.37 ticks)\n",
      "  Sync time (average)   =    0.02 sec.\n",
      "  Wait time (average)   =    0.00 sec.\n",
      "                          ------------\n",
      "Total (root+branch&cut) =    0.54 sec. (120.83 ticks)\n"
     ]
    },
    {
     "data": {
      "text/plain": [
       "<JobSolveStatus.OPTIMAL_SOLUTION: 2>"
      ]
     },
     "execution_count": 52,
     "metadata": {},
     "output_type": "execute_result"
    }
   ],
   "source": [
    "ftcp.solve(log_output=True, clean_before_solve=True)\n",
    "ftcp.solve_status"
   ]
  },
  {
   "cell_type": "code",
   "execution_count": 56,
   "metadata": {},
   "outputs": [
    {
     "name": "stdout",
     "output_type": "stream",
     "text": [
      "objective: 277857142.857\n",
      "  \"assign_2606_0\"=1\n",
      "  \"assign_2609_0\"=1\n",
      "  \"assign_2629_0\"=1\n",
      "  \"assign_2630_0\"=1\n",
      "  \"assign_2634_0\"=1\n",
      "  \"assign_2635_0\"=1\n",
      "  \"assign_2642_0\"=1\n",
      "  \"assign_2648_0\"=1\n",
      "  \"assign_2649_0\"=1\n",
      "  \"assign_2650_0\"=1\n",
      "  \"assign_2684_0\"=1\n",
      "  \"assign_2686_0\"=1\n",
      "  \"assign_2692_0\"=1\n",
      "  \"assign_2704_0\"=1\n",
      "  \"assign_2712_0\"=1\n",
      "  \"assign_2753_0\"=1\n",
      "  \"assign_2802_0\"=1\n",
      "  \"assign_2805_0\"=1\n",
      "  \"Team Value_0\"=135000000.000\n",
      "  \"Sunset Value_\"=142857142.857\n",
      "  \"Expectation of Team Value\"=277857142.857\n",
      "  \"Total number of Players_0\"=23\n",
      "  \"Number of goalkeepers_0\"=3\n",
      "  \"Number of defenders_0\"=8\n",
      "  \"Number of midfielders_0\"=8\n",
      "  \"Number of forwards_0\"=4\n"
     ]
    }
   ],
   "source": [
    "ftcp.print_solution()"
   ]
  },
  {
   "cell_type": "code",
   "execution_count": 53,
   "metadata": {},
   "outputs": [],
   "source": [
    "import docplex.mp.conflict_refiner as cr\n",
    "\n",
    "ftcp.solve()\n",
    "solve_status = ftcp.get_solve_status()\n",
    "if solve_status.name in ['INFEASIBLE_SOLUTION', 'INFEASIBLE_OR_UNBOUNDED_SOLUTION']:\n",
    "    cref = cr.ConflictRefiner()\n",
    "    print('show some of the constraints that can be removed to arrive at a minimal conflict')\n",
    "    cref_result = cref.refine_conflict(ftcp, display=True)  # display flag is to show the conflicts"
   ]
  },
  {
   "cell_type": "code",
   "execution_count": 54,
   "metadata": {},
   "outputs": [
    {
     "name": "stdout",
     "output_type": "stream",
     "text": [
      "conflict(s): 14\n",
      "  - status: Member, LinearConstraint: Budget_0 == -26230000 assign_0_0 - 10180000 assign_1_0 - 270..\n",
      "  - status: Member, LinearConstraint: Number of goalkeepers_0 == assign_13_0 + assign_14_0 + assign_15_0 + assign..\n",
      "  - status: Member, LinearConstraint: Number of defenders_0 == assign_0_0 + assign_1_0 + assign_2_0 + assign_3_..\n",
      "  - status: Member, LinearConstraint: Number of midfielders_0 == assign_17_0 + assign_18_0 + assign_19_0 + assign..\n",
      "  - status: Member, LinearConstraint: Number of forwards_0 == assign_9_0 + assign_10_0 + assign_11_0 + assign_..\n",
      "  - status: Member, LinearConstraint: Number of goalkeepers_0 + Number of defenders_0 .. == Total number of Players_0\n",
      "  - status: Member, LinearConstraint: Budget_1 == -26269000 assign_0_1 - 10193000 assign_1_1 - 270..\n",
      "  - status: Member, LinearConstraint: Number of goalkeepers_1 == assign_13_1 + assign_14_1 + assign_15_1 + assign..\n",
      "  - status: Member, LinearConstraint: Number of defenders_1 == assign_0_1 + assign_1_1 + assign_2_1 + assign_3_..\n",
      "  - status: Member, LinearConstraint: Number of midfielders_1 == assign_17_1 + assign_18_1 + assign_19_1 + assign..\n",
      "  - status: Member, LinearConstraint: Number of forwards_1 == assign_9_1 + assign_10_1 + assign_11_1 + assign_..\n",
      "  - status: Member, LinearConstraint: Number of goalkeepers_1 + Number of defenders_1 .. == Total number of Players_1\n",
      "  - status: Member, Lower Bound: Total number of Players_0 >= 22.0\n",
      "  - status: Member, Lower Bound: Total number of Players_1 >= 22.0\n"
     ]
    }
   ],
   "source": [
    "cref_result.display()"
   ]
  },
  {
   "cell_type": "code",
   "execution_count": 55,
   "metadata": {},
   "outputs": [
    {
     "data": {
      "text/html": [
       "<div>\n",
       "<style scoped>\n",
       "    .dataframe tbody tr th:only-of-type {\n",
       "        vertical-align: middle;\n",
       "    }\n",
       "\n",
       "    .dataframe tbody tr th {\n",
       "        vertical-align: top;\n",
       "    }\n",
       "\n",
       "    .dataframe thead th {\n",
       "        text-align: right;\n",
       "    }\n",
       "</style>\n",
       "<table border=\"1\" class=\"dataframe\">\n",
       "  <thead>\n",
       "    <tr style=\"text-align: right;\">\n",
       "      <th></th>\n",
       "      <th>Type</th>\n",
       "      <th>Status</th>\n",
       "      <th>Name</th>\n",
       "      <th>Expression</th>\n",
       "    </tr>\n",
       "  </thead>\n",
       "  <tbody>\n",
       "    <tr>\n",
       "      <th>0</th>\n",
       "      <td>Constraint</td>\n",
       "      <td>Member</td>\n",
       "      <td></td>\n",
       "      <td>Budget_0 == -26230000assign_0_0-10180000assign...</td>\n",
       "    </tr>\n",
       "    <tr>\n",
       "      <th>1</th>\n",
       "      <td>Constraint</td>\n",
       "      <td>Member</td>\n",
       "      <td></td>\n",
       "      <td>Number of goalkeepers_0 == assign_13_0+assign_...</td>\n",
       "    </tr>\n",
       "    <tr>\n",
       "      <th>2</th>\n",
       "      <td>Constraint</td>\n",
       "      <td>Member</td>\n",
       "      <td></td>\n",
       "      <td>Number of defenders_0 == assign_0_0+assign_1_0...</td>\n",
       "    </tr>\n",
       "    <tr>\n",
       "      <th>3</th>\n",
       "      <td>Constraint</td>\n",
       "      <td>Member</td>\n",
       "      <td></td>\n",
       "      <td>Number of midfielders_0 == assign_17_0+assign_...</td>\n",
       "    </tr>\n",
       "    <tr>\n",
       "      <th>4</th>\n",
       "      <td>Constraint</td>\n",
       "      <td>Member</td>\n",
       "      <td></td>\n",
       "      <td>Number of forwards_0 == assign_9_0+assign_10_0...</td>\n",
       "    </tr>\n",
       "    <tr>\n",
       "      <th>5</th>\n",
       "      <td>Constraint</td>\n",
       "      <td>Member</td>\n",
       "      <td></td>\n",
       "      <td>Number of goalkeepers_0+Number of defenders_0+...</td>\n",
       "    </tr>\n",
       "    <tr>\n",
       "      <th>6</th>\n",
       "      <td>Constraint</td>\n",
       "      <td>Member</td>\n",
       "      <td></td>\n",
       "      <td>Budget_1 == -26269000assign_0_1-10193000assign...</td>\n",
       "    </tr>\n",
       "    <tr>\n",
       "      <th>7</th>\n",
       "      <td>Constraint</td>\n",
       "      <td>Member</td>\n",
       "      <td></td>\n",
       "      <td>Number of goalkeepers_1 == assign_13_1+assign_...</td>\n",
       "    </tr>\n",
       "    <tr>\n",
       "      <th>8</th>\n",
       "      <td>Constraint</td>\n",
       "      <td>Member</td>\n",
       "      <td></td>\n",
       "      <td>Number of defenders_1 == assign_0_1+assign_1_1...</td>\n",
       "    </tr>\n",
       "    <tr>\n",
       "      <th>9</th>\n",
       "      <td>Constraint</td>\n",
       "      <td>Member</td>\n",
       "      <td></td>\n",
       "      <td>Number of midfielders_1 == assign_17_1+assign_...</td>\n",
       "    </tr>\n",
       "    <tr>\n",
       "      <th>10</th>\n",
       "      <td>Constraint</td>\n",
       "      <td>Member</td>\n",
       "      <td></td>\n",
       "      <td>Number of forwards_1 == assign_9_1+assign_10_1...</td>\n",
       "    </tr>\n",
       "    <tr>\n",
       "      <th>11</th>\n",
       "      <td>Constraint</td>\n",
       "      <td>Member</td>\n",
       "      <td></td>\n",
       "      <td>Number of goalkeepers_1+Number of defenders_1+...</td>\n",
       "    </tr>\n",
       "    <tr>\n",
       "      <th>12</th>\n",
       "      <td>Constraint</td>\n",
       "      <td>Member</td>\n",
       "      <td>Total number of Players_0</td>\n",
       "      <td>&lt;docplex.mp.conflict_refiner.VarLbConstraintWr...</td>\n",
       "    </tr>\n",
       "    <tr>\n",
       "      <th>13</th>\n",
       "      <td>Constraint</td>\n",
       "      <td>Member</td>\n",
       "      <td>Total number of Players_1</td>\n",
       "      <td>&lt;docplex.mp.conflict_refiner.VarLbConstraintWr...</td>\n",
       "    </tr>\n",
       "  </tbody>\n",
       "</table>\n",
       "</div>"
      ],
      "text/plain": [
       "          Type  Status                       Name  \\\n",
       "0   Constraint  Member                              \n",
       "1   Constraint  Member                              \n",
       "2   Constraint  Member                              \n",
       "3   Constraint  Member                              \n",
       "4   Constraint  Member                              \n",
       "5   Constraint  Member                              \n",
       "6   Constraint  Member                              \n",
       "7   Constraint  Member                              \n",
       "8   Constraint  Member                              \n",
       "9   Constraint  Member                              \n",
       "10  Constraint  Member                              \n",
       "11  Constraint  Member                              \n",
       "12  Constraint  Member  Total number of Players_0   \n",
       "13  Constraint  Member  Total number of Players_1   \n",
       "\n",
       "                                           Expression  \n",
       "0   Budget_0 == -26230000assign_0_0-10180000assign...  \n",
       "1   Number of goalkeepers_0 == assign_13_0+assign_...  \n",
       "2   Number of defenders_0 == assign_0_0+assign_1_0...  \n",
       "3   Number of midfielders_0 == assign_17_0+assign_...  \n",
       "4   Number of forwards_0 == assign_9_0+assign_10_0...  \n",
       "5   Number of goalkeepers_0+Number of defenders_0+...  \n",
       "6   Budget_1 == -26269000assign_0_1-10193000assign...  \n",
       "7   Number of goalkeepers_1 == assign_13_1+assign_...  \n",
       "8   Number of defenders_1 == assign_0_1+assign_1_1...  \n",
       "9   Number of midfielders_1 == assign_17_1+assign_...  \n",
       "10  Number of forwards_1 == assign_9_1+assign_10_1...  \n",
       "11  Number of goalkeepers_1+Number of defenders_1+...  \n",
       "12  <docplex.mp.conflict_refiner.VarLbConstraintWr...  \n",
       "13  <docplex.mp.conflict_refiner.VarLbConstraintWr...  "
      ]
     },
     "execution_count": 55,
     "metadata": {},
     "output_type": "execute_result"
    }
   ],
   "source": [
    "cref_result.as_output_table()"
   ]
  },
  {
   "cell_type": "code",
   "execution_count": null,
   "metadata": {},
   "outputs": [],
   "source": []
  }
 ],
 "metadata": {
  "interpreter": {
   "hash": "2f676bf427be959cf12da6211eea26d2cc53631aaec6c8787e7b7a840925e3fa"
  },
  "kernelspec": {
   "display_name": "Python 3.9.7 ('base')",
   "language": "python",
   "name": "python3"
  },
  "language_info": {
   "codemirror_mode": {
    "name": "ipython",
    "version": 3
   },
   "file_extension": ".py",
   "mimetype": "text/x-python",
   "name": "python",
   "nbconvert_exporter": "python",
   "pygments_lexer": "ipython3",
   "version": "3.8.10"
  },
  "orig_nbformat": 4
 },
 "nbformat": 4,
 "nbformat_minor": 2
}
