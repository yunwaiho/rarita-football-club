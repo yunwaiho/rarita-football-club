{
 "cells": [
  {
   "cell_type": "markdown",
   "metadata": {},
   "source": [
    "## Imports"
   ]
  },
  {
   "cell_type": "markdown",
   "metadata": {},
   "source": [
    "https://github.com/IBMDecisionOptimization/docplex-examples/blob/master/examples/mp/jupyter/tutorials/Linear_Programming.ipynb\n",
    "\n",
    "\n",
    "Integer Optimization:\n",
    "- https://github.com/IBMDecisionOptimization/docplex-examples/blob/master/examples/mp/jupyter/tutorials/Beyond_Linear_Programming.ipynb"
   ]
  },
  {
   "cell_type": "code",
   "execution_count": 1,
   "metadata": {},
   "outputs": [],
   "source": [
    "from docplex.mp.model import Model\n",
    "import numpy as np\n",
    "import pandas as pd"
   ]
  },
  {
   "cell_type": "code",
   "execution_count": 2,
   "metadata": {},
   "outputs": [],
   "source": [
    "# load data\n",
    "\n",
    "players = pd.read_csv(\"../data/processed-data/0_selection_players.csv\", index_col=0)\n",
    "n_players = players.shape[0]\n",
    "salaries = pd.read_csv(\"../data/processed-data/0_selection_salary.csv\", index_col=0,).drop('Player', axis=1).values\n",
    "n_time = salaries.shape[1]\n",
    "n_trials = int(salaries.shape[0]/n_players)\n",
    "salaries = salaries.reshape((n_trials, n_players, n_time))\n",
    "market_values = salaries/0.1\n",
    "\n",
    "\n",
    "\n",
    "# Set up all players\n",
    "# use binary var cube\n",
    "# (time, player, and simulation)\n",
    "\n",
    "\n",
    "# set up goalkeeping separately\n",
    "# set up DF, MF and Fw using separate dataset\n",
    "\n"
   ]
  },
  {
   "cell_type": "code",
   "execution_count": 3,
   "metadata": {},
   "outputs": [],
   "source": [
    "# create model\n",
    "ftcp = Model(name = \"Rarita Football Team Composition\")\n",
    "\n",
    "max_age = 40\n",
    "starting_budget = 15000000\n",
    "rho = 0.05\n",
    "\n",
    "time = np.arange(n_time)\n",
    "trials = np.arange(n_trials)"
   ]
  },
  {
   "cell_type": "code",
   "execution_count": 4,
   "metadata": {},
   "outputs": [],
   "source": [
    "# Decision variables\n",
    "# assigned = ftcp.binary_var_matrix(keys1=players.index.values, keys2=time, keys3=trials, name = \"assign_%s_%s_%s\")\n",
    "assigned = ftcp.binary_var_matrix(keys1=players.index.values, keys2=time, name = \"assign_%s_%s\")\n",
    "\n",
    "budget = ftcp.continuous_var_list(keys = time, name = \"Budget_%s\", lb=0)\n",
    "team_value = ftcp.continuous_var_list(keys = time, name = \"Team Value_%s\")\n",
    "\n",
    "sunset_value = ftcp.continuous_var(name = \"Sunset Value_\")\n",
    "optim_value = ftcp.continuous_var(name = \"Expectation of Team Value\")"
   ]
  },
  {
   "cell_type": "code",
   "execution_count": 5,
   "metadata": {},
   "outputs": [],
   "source": [
    "# Non decision variables\n",
    "# Total number of players\n",
    "N_total = ftcp.integer_var_list(keys = time, name = 'Total number of Players_%s', lb=22, ub=25)\n",
    "\n",
    "# Number of players in each role\n",
    "N_gk = ftcp.integer_var_list(keys = time, name = \"Number of goalkeepers_%s\", lb=2, ub=3)\n",
    "N_df = ftcp.integer_var_list(keys = time, name = \"Number of defenders_%s\", lb=8, ub=10)\n",
    "N_mf = ftcp.integer_var_list(keys = time, name = \"Number of midfielders_%s\", lb=8, ub=10)\n",
    "N_fw = ftcp.integer_var_list(keys = time, name = \"Number of forwards_%s\", lb=3, ub=4)       "
   ]
  },
  {
   "cell_type": "code",
   "execution_count": 6,
   "metadata": {},
   "outputs": [
    {
     "data": {
      "text/plain": [
       "docplex.mp.LinearConstraint[](Expectation of Team Value,EQ,Team Value_0+Team Value_1+Team Value_2+Team Value_3+Team Value_4+Team Value_5+Team Value_6+Team Value_7+Team Value_8+Team Value_9+Sunset Value_)"
      ]
     },
     "execution_count": 6,
     "metadata": {},
     "output_type": "execute_result"
    }
   ],
   "source": [
    "# Set up Constraints for number of players\n",
    "for year in time:\n",
    "    \n",
    "    previous_budget = starting_budget if year == 0 else budget[year-1]   \n",
    "    ftcp.add_constraint(budget[year] == previous_budget \n",
    "                        - ftcp.sum(assigned[index, year] * salaries[0, index, year] for index in range(n_players)))\n",
    "    \n",
    "    # Team value = Player values - Wages + Borrowing - Lending\n",
    "    ftcp.add_constraint(team_value[year] == ftcp.sum(assigned[index, year] * market_values[0, index, year] for index in range(n_players))/((1 + rho)**year)\n",
    "                        - ftcp.sum(assigned[index, year] * salaries[0, index, year] for index in range(n_players)))\n",
    "    \n",
    "    ftcp.add_constraint(N_gk[year] == ftcp.sum(assigned[index, year] * player['GK'] for index, player in players.iterrows()))\n",
    "    ftcp.add_constraint(N_df[year] == ftcp.sum(assigned[index, year] * player['DF'] for index, player in players.iterrows()))\n",
    "    ftcp.add_constraint(N_mf[year] == ftcp.sum(assigned[index, year] * player['MF'] for index, player in players.iterrows()))\n",
    "    ftcp.add_constraint(N_fw[year] == ftcp.sum(assigned[index, year] * player['FW'] for index, player in players.iterrows()))\n",
    "    ftcp.add_constraint(N_gk[year] + N_df[year] + N_mf[year] + N_fw[year] == N_total[year])\n",
    "\n",
    "    for index, player in players.iterrows():\n",
    "        ftcp.add_constraint(assigned[index, year] * (player['Age'] + year) <= max_age )\n",
    "        \n",
    "ftcp.add_constraint(sunset_value == ftcp.sum(assigned[index, time[-1]] * market_values[0, index, time[-1]] for index in range(n_players))/((1 + rho)**(n_time)))\n",
    "ftcp.add_constraint(optim_value == ftcp.sum(team_value) + sunset_value)"
   ]
  },
  {
   "cell_type": "code",
   "execution_count": 7,
   "metadata": {},
   "outputs": [
    {
     "name": "stdout",
     "output_type": "stream",
     "text": [
      "Model: Rarita Football Team Composition\n",
      " - number of variables: 28292\n",
      "   - binary=28220, integer=50, continuous=22\n",
      " - number of constraints: 28292\n",
      "   - linear=28292\n",
      " - parameters: defaults\n",
      " - objective: maximize\n",
      " - problem type is: MILP\n"
     ]
    }
   ],
   "source": [
    "ftcp.maximize(optim_value)\n",
    "ftcp.print_information()"
   ]
  },
  {
   "cell_type": "code",
   "execution_count": 8,
   "metadata": {},
   "outputs": [
    {
     "name": "stdout",
     "output_type": "stream",
     "text": [
      "Version identifier: 20.1.0.0 | 2020-11-10 | 9bedb6d68\n",
      "CPXPARAM_Read_DataCheck                          1\n",
      "Tried aggregator 3 times.\n",
      "MIP Presolve eliminated 28232 rows and 20180 columns.\n",
      "MIP Presolve added 1257 rows and 1257 columns.\n",
      "MIP Presolve modified 249 coefficients.\n",
      "Aggregator did 67 substitutions.\n",
      "Reduced MIP has 1250 rows, 9302 columns, and 23532 nonzeros.\n",
      "Reduced MIP has 8026 binaries, 1275 generals, 0 SOSs, and 0 indicators.\n",
      "Presolve time = 0.21 sec. (82.75 ticks)\n",
      "Tried aggregator 1 time.\n",
      "Detecting symmetries...\n",
      "Reduced MIP has 1250 rows, 9302 columns, and 23532 nonzeros.\n",
      "Reduced MIP has 8026 binaries, 1275 generals, 0 SOSs, and 0 indicators.\n",
      "Presolve time = 0.03 sec. (13.43 ticks)\n",
      "Probing fixed 1472 vars, tightened 1613 bounds.\n",
      "Probing time = 3.88 sec. (1499.09 ticks)\n",
      "Clique table members: 9.\n",
      "MIP emphasis: balance optimality and feasibility.\n",
      "MIP search method: dynamic search.\n",
      "Parallel mode: deterministic, using up to 4 threads.\n",
      "Root relaxation solution time = 0.04 sec. (11.68 ticks)\n",
      "\n",
      "        Nodes                                         Cuts/\n",
      "   Node  Left     Objective  IInf  Best Integer    Best Bound    ItCnt     Gap\n",
      "\n",
      "      0     0    infeasible                                         54         \n",
      "\n",
      "Root node processing (before b&c):\n",
      "  Real time             =    4.89 sec. (1688.49 ticks)\n",
      "Parallel b&c, 4 threads:\n",
      "  Real time             =    0.00 sec. (0.00 ticks)\n",
      "  Sync time (average)   =    0.00 sec.\n",
      "  Wait time (average)   =    0.00 sec.\n",
      "                          ------------\n",
      "Total (root+branch&cut) =    4.89 sec. (1688.49 ticks)\n"
     ]
    },
    {
     "data": {
      "text/plain": [
       "<JobSolveStatus.INFEASIBLE_OR_UNBOUNDED_SOLUTION: 5>"
      ]
     },
     "execution_count": 8,
     "metadata": {},
     "output_type": "execute_result"
    }
   ],
   "source": [
    "ftcp.solve(log_output=True, clean_before_solve=True)\n",
    "ftcp.solve_status"
   ]
  },
  {
   "cell_type": "code",
   "execution_count": null,
   "metadata": {},
   "outputs": [],
   "source": []
  }
 ],
 "metadata": {
  "interpreter": {
   "hash": "2f676bf427be959cf12da6211eea26d2cc53631aaec6c8787e7b7a840925e3fa"
  },
  "kernelspec": {
   "display_name": "Python 3.9.7 ('base')",
   "language": "python",
   "name": "python3"
  },
  "language_info": {
   "codemirror_mode": {
    "name": "ipython",
    "version": 3
   },
   "file_extension": ".py",
   "mimetype": "text/x-python",
   "name": "python",
   "nbconvert_exporter": "python",
   "pygments_lexer": "ipython3",
   "version": "3.8.10"
  },
  "orig_nbformat": 4
 },
 "nbformat": 4,
 "nbformat_minor": 2
}
