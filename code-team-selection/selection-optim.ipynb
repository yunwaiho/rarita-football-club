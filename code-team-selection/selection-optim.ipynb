{
 "cells": [
  {
   "cell_type": "markdown",
   "metadata": {},
   "source": [
    "## Imports"
   ]
  },
  {
   "cell_type": "markdown",
   "metadata": {},
   "source": [
    "https://github.com/IBMDecisionOptimization/docplex-examples/blob/master/examples/mp/jupyter/tutorials/Linear_Programming.ipynb\n"
   ]
  },
  {
   "cell_type": "code",
   "execution_count": 1,
   "metadata": {},
   "outputs": [],
   "source": [
    "from docplex.mp.model import Model\n",
    "# create model\n",
    "m = Model(name = \"rarita\")\n",
    "# House all the decision variables\n",
    "# Total number of players\n",
    "N_total = m.integer_var(name = 'Total number of Players')\n",
    "\n",
    "# Number of players in each role\n",
    "N_gk = m.integer_var(name = 'Number of goalkeepers', ub = 25)\n",
    "N_df = m.integer_var(name = 'Number of defenders', ub = 25)\n",
    "N_mf = m.integer_var(name = 'Number of midfielders', ub = 25)\n",
    "N_fw = m.integer_var(name = 'Number of forwards', ub = 25)\n",
    "\n",
    "# max age\n",
    "age = m.integer_var(name = \"Maximum age\",\n",
    "                    ub=40)"
   ]
  },
  {
   "cell_type": "code",
   "execution_count": 2,
   "metadata": {},
   "outputs": [
    {
     "data": {
      "text/plain": [
       "docplex.mp.LinearConstraint[](Number of forwards,LE,4)"
      ]
     },
     "execution_count": 2,
     "metadata": {},
     "output_type": "execute_result"
    }
   ],
   "source": [
    "# Set up Constraints\n",
    "m.add_constraint(N_total >= 22)\n",
    "m.add_constraint(N_total <= 25)\n",
    "\n",
    "m.add_constraint(N_gk == 2)\n",
    "\n",
    "m.add_constraint(N_df >= 8)\n",
    "m.add_constraint(N_df <= 10)\n",
    "\n",
    "m.add_constraint(N_mf >= 8)\n",
    "m.add_constraint(N_mf <= 10)\n",
    "\n",
    "m.add_constraint(N_fw >= 3)\n",
    "m.add_constraint(N_fw <= 4)"
   ]
  },
  {
   "cell_type": "code",
   "execution_count": 3,
   "metadata": {},
   "outputs": [],
   "source": [
    "m.maximize(N_total)"
   ]
  },
  {
   "cell_type": "code",
   "execution_count": 4,
   "metadata": {},
   "outputs": [
    {
     "name": "stdout",
     "output_type": "stream",
     "text": [
      "Model: rarita\n",
      " - number of variables: 6\n",
      "   - binary=0, integer=6, continuous=0\n",
      " - number of constraints: 9\n",
      "   - linear=9\n",
      " - parameters: defaults\n",
      " - objective: maximize\n",
      " - problem type is: MILP\n"
     ]
    }
   ],
   "source": [
    "m.print_information()"
   ]
  },
  {
   "cell_type": "code",
   "execution_count": 5,
   "metadata": {},
   "outputs": [
    {
     "name": "stdout",
     "output_type": "stream",
     "text": [
      "objective: 25\n",
      "  \"Total number of Players\"=25\n",
      "  \"Number of goalkeepers\"=2\n",
      "  \"Number of defenders\"=8\n",
      "  \"Number of midfielders\"=8\n",
      "  \"Number of forwards\"=3\n"
     ]
    }
   ],
   "source": [
    "m.solve()\n",
    "m.print_solution()"
   ]
  },
  {
   "cell_type": "code",
   "execution_count": null,
   "metadata": {},
   "outputs": [],
   "source": []
  }
 ],
 "metadata": {
  "interpreter": {
   "hash": "2f676bf427be959cf12da6211eea26d2cc53631aaec6c8787e7b7a840925e3fa"
  },
  "kernelspec": {
   "display_name": "Python 3.9.7 ('base')",
   "language": "python",
   "name": "python3"
  },
  "language_info": {
   "codemirror_mode": {
    "name": "ipython",
    "version": 3
   },
   "file_extension": ".py",
   "mimetype": "text/x-python",
   "name": "python",
   "nbconvert_exporter": "python",
   "pygments_lexer": "ipython3",
   "version": "3.9.2"
  },
  "orig_nbformat": 4
 },
 "nbformat": 4,
 "nbformat_minor": 2
}
