{
 "cells": [
  {
   "cell_type": "markdown",
   "metadata": {},
   "source": [
    "## Imports"
   ]
  },
  {
   "cell_type": "markdown",
   "metadata": {},
   "source": [
    "https://github.com/IBMDecisionOptimization/docplex-examples/blob/master/examples/mp/jupyter/tutorials/Linear_Programming.ipynb\n",
    "\n",
    "\n",
    "Integer Optimization:\n",
    "- https://github.com/IBMDecisionOptimization/docplex-examples/blob/master/examples/mp/jupyter/tutorials/Beyond_Linear_Programming.ipynb"
   ]
  },
  {
   "cell_type": "code",
   "execution_count": null,
   "metadata": {},
   "outputs": [],
   "source": [
    "from docplex.mp.model import Model\n",
    "import numpy as np\n",
    "import pandas as pd"
   ]
  },
  {
   "cell_type": "code",
   "execution_count": 11,
   "metadata": {},
   "outputs": [],
   "source": [
    "\n",
    "# create model\n",
    "ftcp = Model(name = \"Rarita Football Team Composition\")\n",
    "\n",
    "# use integer var matrix\n",
    "# (time and simulation)\n",
    "\n",
    "# House all the decision variables\n",
    "# Total number of players\n",
    "N_total = ftcp.integer_var(name = 'Total number of Players', lb=22, ub=25)\n",
    "\n",
    "# Number of players in each role\n",
    "N_gk = ftcp.integer_var(name = 'Number of goalkeepers', lb=2, ub=3)\n",
    "N_df = ftcp.integer_var(name = 'Number of defenders', lb=8, ub=10)\n",
    "N_mf = ftcp.integer_var(name = 'Number of midfielders', lb=8, ub=10)\n",
    "N_fw = ftcp.integer_var(name = 'Number of forwards', lb=3, ub=4)\n",
    "\n",
    "# max age\n",
    "max_age = 40"
   ]
  },
  {
   "cell_type": "code",
   "execution_count": 12,
   "metadata": {},
   "outputs": [
    {
     "data": {
      "text/plain": [
       "docplex.mp.LinearConstraint[](Number of goalkeepers+Number of defenders+Number of midfielders+Number of forwards,EQ,Total number of Players)"
      ]
     },
     "execution_count": 12,
     "metadata": {},
     "output_type": "execute_result"
    }
   ],
   "source": [
    "# Set up Constraints for number of players\n",
    "ftcp.add_constraint(N_gk + N_df + N_mf + N_fw == N_total)"
   ]
  },
  {
   "cell_type": "code",
   "execution_count": null,
   "metadata": {},
   "outputs": [],
   "source": [
    "# Set up all players\n",
    "# use binary var cube\n",
    "# (time, player, and simulation)\n",
    "\n",
    "# set up goalkeeping separately\n",
    "# set up DF, MF and Fw using separate dataset"
   ]
  },
  {
   "cell_type": "code",
   "execution_count": 13,
   "metadata": {},
   "outputs": [
    {
     "name": "stdout",
     "output_type": "stream",
     "text": [
      "Model: Rarita Football Team Composition\n",
      " - number of variables: 5\n",
      "   - binary=0, integer=5, continuous=0\n",
      " - number of constraints: 1\n",
      "   - linear=1\n",
      " - parameters: defaults\n",
      " - objective: none\n"
     ]
    }
   ],
   "source": [
    "ftcp.print_information()"
   ]
  },
  {
   "cell_type": "code",
   "execution_count": 5,
   "metadata": {},
   "outputs": [
    {
     "name": "stdout",
     "output_type": "stream",
     "text": [
      "objective: 25\n",
      "  \"Total number of Players\"=25\n",
      "  \"Number of goalkeepers\"=2\n",
      "  \"Number of defenders\"=8\n",
      "  \"Number of midfielders\"=8\n",
      "  \"Number of forwards\"=3\n"
     ]
    }
   ],
   "source": [
    "ftcp.solve(log_output=True)\n",
    "ftcp.print_solution()"
   ]
  },
  {
   "cell_type": "code",
   "execution_count": null,
   "metadata": {},
   "outputs": [],
   "source": []
  }
 ],
 "metadata": {
  "interpreter": {
   "hash": "2f676bf427be959cf12da6211eea26d2cc53631aaec6c8787e7b7a840925e3fa"
  },
  "kernelspec": {
   "display_name": "Python 3.9.7 ('base')",
   "language": "python",
   "name": "python3"
  },
  "language_info": {
   "codemirror_mode": {
    "name": "ipython",
    "version": 3
   },
   "file_extension": ".py",
   "mimetype": "text/x-python",
   "name": "python",
   "nbconvert_exporter": "python",
   "pygments_lexer": "ipython3",
   "version": "3.9.7"
  },
  "orig_nbformat": 4
 },
 "nbformat": 4,
 "nbformat_minor": 2
}
