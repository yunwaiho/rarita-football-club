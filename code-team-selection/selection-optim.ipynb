{
 "cells": [
  {
   "cell_type": "markdown",
   "metadata": {},
   "source": [
    "## Imports"
   ]
  },
  {
   "cell_type": "markdown",
   "metadata": {},
   "source": [
    "https://github.com/IBMDecisionOptimization/docplex-examples/blob/master/examples/mp/jupyter/tutorials/Linear_Programming.ipynb\n",
    "\n",
    "\n",
    "Integer Optimization:\n",
    "- https://github.com/IBMDecisionOptimization/docplex-examples/blob/master/examples/mp/jupyter/tutorials/Beyond_Linear_Programming.ipynb"
   ]
  },
  {
   "cell_type": "code",
   "execution_count": 121,
   "metadata": {},
   "outputs": [],
   "source": [
    "from docplex.mp.model import Model\n",
    "import numpy as np\n",
    "import pandas as pd"
   ]
  },
  {
   "cell_type": "code",
   "execution_count": 122,
   "metadata": {},
   "outputs": [],
   "source": [
    "# load data\n",
    "players = pd.read_csv(\"../data/processed-data/0_player_selection.csv\", index_col=0)\n",
    "time = np.arange(10)\n",
    "trials = np.arange(100)\n",
    "\n",
    "# Set up all players\n",
    "# use binary var cube\n",
    "# (time, player, and simulation)\n",
    "\n",
    "\n",
    "# set up goalkeeping separately\n",
    "# set up DF, MF and Fw using separate dataset\n",
    "\n"
   ]
  },
  {
   "cell_type": "code",
   "execution_count": 124,
   "metadata": {},
   "outputs": [],
   "source": [
    "# create model\n",
    "ftcp = Model(name = \"Rarita Football Team Composition\")\n",
    "\n",
    "max_age = 40\n",
    "starting_budget = 15000000"
   ]
  },
  {
   "cell_type": "code",
   "execution_count": 125,
   "metadata": {},
   "outputs": [],
   "source": [
    "# Decision variables\n",
    "# assigned = ftcp.binary_var_matrix(keys1=players.index.values, keys2=time, keys3=trials, name = \"assign_%s_%s_%s\")\n",
    "assigned = ftcp.binary_var_matrix(keys1=players.index.values, keys2=time, name = \"assign_%s_%s\")\n",
    "\n",
    "# player_value = ftcp.binary_var_matrix(keys=players.index.values, keys2 = time, name = \"mv_%s_%s\")\n",
    "# player_salary = ftcp.binary_var_matrix(keys=players.index.values, keys2 = time, name = \"sal_%s_%s\")\n",
    "\n",
    "budget = ftcp.continuous_var_list(keys = time, name = \"Budget_%s\", lb=0)"
   ]
  },
  {
   "cell_type": "code",
   "execution_count": 126,
   "metadata": {},
   "outputs": [],
   "source": [
    "# Non decision variables\n",
    "# Total number of players\n",
    "N_total = ftcp.integer_var_list(keys = time, name = 'Total number of Players_%s', lb=22, ub=25)\n",
    "\n",
    "# Number of players in each role\n",
    "N_gk = ftcp.integer_var_list(keys = time, name = \"Number of goalkeepers_%s\", lb=2, ub=3)\n",
    "N_df = ftcp.integer_var_list(keys = time, name = \"Number of defenders_%s\", lb=8, ub=10)\n",
    "N_mf = ftcp.integer_var_list(keys = time, name = \"Number of midfielders_%s\", lb=8, ub=10)\n",
    "N_fw = ftcp.integer_var_list(keys = time, name = \"Number of forwards_%s\", lb=3, ub=4)       "
   ]
  },
  {
   "cell_type": "code",
   "execution_count": 127,
   "metadata": {},
   "outputs": [],
   "source": [
    "# Set up Constraints for number of players\n",
    "for year in time:\n",
    "    \n",
    "    previous_budget = starting_budget if year == 0 else budget[year-1]   \n",
    "    ftcp.add_constraint(budget[year] == previous_budget - ftcp.sum(assigned[index, year] * player['Salary'] for index, player in players.iterrows()))\n",
    "    \n",
    "    ftcp.add_constraint(N_gk[year] == ftcp.sum(assigned[index, year] * player['GK'] for index, player in players.iterrows()))\n",
    "    ftcp.add_constraint(N_df[year] == ftcp.sum(assigned[index, year] * player['DF'] for index, player in players.iterrows()))\n",
    "    ftcp.add_constraint(N_mf[year] == ftcp.sum(assigned[index, year] * player['MF'] for index, player in players.iterrows()))\n",
    "    ftcp.add_constraint(N_fw[year] == ftcp.sum(assigned[index, year] * player['FW'] for index, player in players.iterrows()))\n",
    "    ftcp.add_constraint(N_gk[year] + N_df[year] + N_mf[year] + N_fw[year] == N_total[year])\n",
    "\n",
    "    for index, player in players.iterrows():\n",
    "        ftcp.add_constraint(assigned[index, year]*(player['Age'] + year) <= max_age )"
   ]
  },
  {
   "cell_type": "code",
   "execution_count": 128,
   "metadata": {},
   "outputs": [
    {
     "name": "stdout",
     "output_type": "stream",
     "text": [
      "Model: Rarita Football Team Composition\n",
      " - number of variables: 55600\n",
      "   - binary=55540, integer=50, continuous=10\n",
      " - number of constraints: 55600\n",
      "   - linear=55600\n",
      " - parameters: defaults\n",
      " - objective: none\n"
     ]
    }
   ],
   "source": [
    "ftcp.print_information()"
   ]
  },
  {
   "cell_type": "code",
   "execution_count": 129,
   "metadata": {},
   "outputs": [
    {
     "name": "stdout",
     "output_type": "stream",
     "text": [
      "-- cannot find parameters matching version: , using: 20.1.0.0\n"
     ]
    },
    {
     "ename": "DOcplexException",
     "evalue": "Cannot solve model: no CPLEX runtime found.",
     "output_type": "error",
     "traceback": [
      "\u001b[1;31m---------------------------------------------------------------------------\u001b[0m",
      "\u001b[1;31mDOcplexException\u001b[0m                          Traceback (most recent call last)",
      "\u001b[1;32mt:\\Python-Projects\\rarita-football-club\\code-team-selection\\selection-optim.ipynb Cell 10'\u001b[0m in \u001b[0;36m<module>\u001b[1;34m\u001b[0m\n\u001b[0;32m      <a href='vscode-notebook-cell:/t%3A/Python-Projects/rarita-football-club/code-team-selection/selection-optim.ipynb#ch0000007?line=0'>1</a>\u001b[0m ftcp\u001b[39m.\u001b[39mmaximize(budget[\u001b[39m9\u001b[39m])\n\u001b[1;32m----> <a href='vscode-notebook-cell:/t%3A/Python-Projects/rarita-football-club/code-team-selection/selection-optim.ipynb#ch0000007?line=1'>2</a>\u001b[0m ftcp\u001b[39m.\u001b[39;49msolve(log_output\u001b[39m=\u001b[39;49m\u001b[39mTrue\u001b[39;49;00m)\n\u001b[0;32m      <a href='vscode-notebook-cell:/t%3A/Python-Projects/rarita-football-club/code-team-selection/selection-optim.ipynb#ch0000007?line=2'>3</a>\u001b[0m ftcp\u001b[39m.\u001b[39mprint_solution()\n",
      "File \u001b[1;32m~\\miniconda3\\lib\\site-packages\\docplex\\mp\\model.py:4829\u001b[0m, in \u001b[0;36mModel.solve\u001b[1;34m(self, **kwargs)\u001b[0m\n\u001b[0;32m   <a href='file:///~/miniconda3/lib/site-packages/docplex/mp/model.py?line=4826'>4827</a>\u001b[0m     \u001b[39mreturn\u001b[39;00m \u001b[39mself\u001b[39m\u001b[39m.\u001b[39m_solve_local(context, used_clean_before_solve, lex_timelimits, lex_mipgaps)\n\u001b[0;32m   <a href='file:///~/miniconda3/lib/site-packages/docplex/mp/model.py?line=4827'>4828</a>\u001b[0m \u001b[39melse\u001b[39;00m:\n\u001b[1;32m-> <a href='file:///~/miniconda3/lib/site-packages/docplex/mp/model.py?line=4828'>4829</a>\u001b[0m     \u001b[39mreturn\u001b[39;00m \u001b[39mself\u001b[39;49m\u001b[39m.\u001b[39;49mfatal(\u001b[39m\"\u001b[39;49m\u001b[39mCannot solve model: no CPLEX runtime found.\u001b[39;49m\u001b[39m\"\u001b[39;49m)\n",
      "File \u001b[1;32m~\\miniconda3\\lib\\site-packages\\docplex\\mp\\model.py:1084\u001b[0m, in \u001b[0;36mModel.fatal\u001b[1;34m(self, msg, *args)\u001b[0m\n\u001b[0;32m   <a href='file:///~/miniconda3/lib/site-packages/docplex/mp/model.py?line=1082'>1083</a>\u001b[0m \u001b[39mdef\u001b[39;00m \u001b[39mfatal\u001b[39m(\u001b[39mself\u001b[39m, msg, \u001b[39m*\u001b[39margs):\n\u001b[1;32m-> <a href='file:///~/miniconda3/lib/site-packages/docplex/mp/model.py?line=1083'>1084</a>\u001b[0m     \u001b[39mself\u001b[39;49m\u001b[39m.\u001b[39;49m_error_handler\u001b[39m.\u001b[39;49mfatal(msg, args)\n",
      "File \u001b[1;32m~\\miniconda3\\lib\\site-packages\\docplex\\mp\\error_handler.py:210\u001b[0m, in \u001b[0;36mAbstractErrorHandler.fatal\u001b[1;34m(self, msg, args)\u001b[0m\n\u001b[0;32m    <a href='file:///~/miniconda3/lib/site-packages/docplex/mp/error_handler.py?line=207'>208</a>\u001b[0m resolved_message \u001b[39m=\u001b[39m resolve_pattern(msg, args)\n\u001b[0;32m    <a href='file:///~/miniconda3/lib/site-packages/docplex/mp/error_handler.py?line=208'>209</a>\u001b[0m docplex_error_stop_here()\n\u001b[1;32m--> <a href='file:///~/miniconda3/lib/site-packages/docplex/mp/error_handler.py?line=209'>210</a>\u001b[0m \u001b[39mraise\u001b[39;00m DOcplexException(resolved_message)\n",
      "\u001b[1;31mDOcplexException\u001b[0m: Cannot solve model: no CPLEX runtime found."
     ]
    }
   ],
   "source": [
    "ftcp.maximize(budget[9])\n",
    "ftcp.solve(log_output=True)\n",
    "ftcp.print_solution()"
   ]
  },
  {
   "cell_type": "code",
   "execution_count": null,
   "metadata": {},
   "outputs": [],
   "source": []
  }
 ],
 "metadata": {
  "interpreter": {
   "hash": "2f676bf427be959cf12da6211eea26d2cc53631aaec6c8787e7b7a840925e3fa"
  },
  "kernelspec": {
   "display_name": "Python 3.9.7 ('base')",
   "language": "python",
   "name": "python3"
  },
  "language_info": {
   "codemirror_mode": {
    "name": "ipython",
    "version": 3
   },
   "file_extension": ".py",
   "mimetype": "text/x-python",
   "name": "python",
   "nbconvert_exporter": "python",
   "pygments_lexer": "ipython3",
   "version": "3.9.7"
  },
  "orig_nbformat": 4
 },
 "nbformat": 4,
 "nbformat_minor": 2
}
