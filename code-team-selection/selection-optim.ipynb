{
 "cells": [
  {
   "cell_type": "markdown",
   "metadata": {},
   "source": [
    "## Imports"
   ]
  },
  {
   "cell_type": "markdown",
   "metadata": {},
   "source": [
    "https://github.com/IBMDecisionOptimization/docplex-examples/blob/master/examples/mp/jupyter/tutorials/Linear_Programming.ipynb\n",
    "\n",
    "\n",
    "Integer Optimization:\n",
    "- https://github.com/IBMDecisionOptimization/docplex-examples/blob/master/examples/mp/jupyter/tutorials/Beyond_Linear_Programming.ipynb"
   ]
  },
  {
   "cell_type": "code",
   "execution_count": 208,
   "metadata": {},
   "outputs": [],
   "source": [
    "from docplex.mp.model import Model\n",
    "import numpy as np\n",
    "import pandas as pd"
   ]
  },
  {
   "cell_type": "code",
   "execution_count": 209,
   "metadata": {},
   "outputs": [],
   "source": [
    "# load data\n",
    "large = False\n",
    "\n",
    "if large:\n",
    "    path = \"/large\"\n",
    "else:\n",
    "    path = \"\"\n",
    "\n",
    "players = pd.read_csv(\"../data/optim-data\" + path + \"/0_selection_players.csv\", index_col=0)\n",
    "n_players = players.shape[0]\n",
    "market_values = pd.read_csv(\"../data/optim-data\" + path + \"/0_selection_mv.csv\", index_col=0,).drop(['player_id', 'trial'], axis=1).values\n",
    "# salaries = pd.read_csv(\"../data/optim-data/0_selection_salary.csv\", index_col=0).drop('Player', axis=1).values\n",
    "n_time = market_values.shape[1]\n",
    "n_trials = int(market_values.shape[0]/n_players)\n",
    "market_values = market_values.reshape((n_trials, n_players, n_time))\n",
    "\n",
    "salaries = pd.read_csv(\"../data/optim-data\" + path + \"/0_selection_salaries.csv\", index_col=0)[[\"sal0\", \"sal1\", \"sal2\", \"sal3\", \"sal4\", \"sal5\", \"sal6\", \"sal7\", \"sal8\", \"sal9\"]].values\n",
    "\n",
    "other_cashflows = pd.read_excel(r\"..\\data\\optim-data\\rev-exp-projections.xlsx\")\n",
    "other_cashflows = other_cashflows[[\"Revenue\", \"Expense\"]]\n",
    "\n",
    "# Set up all players\n",
    "# use binary var cube\n",
    "# (time, player, and simulation)\n",
    "\n",
    "\n",
    "# set up goalkeeping separately\n",
    "# set up DF, MF and Fw using separate dataset\n",
    "\n"
   ]
  },
  {
   "cell_type": "code",
   "execution_count": 210,
   "metadata": {},
   "outputs": [],
   "source": [
    "# create model\n",
    "ftcp = Model(name = \"Rarita Football Team Composition\")\n",
    "\n",
    "max_age = 37\n",
    "starting_budget = 995000000/1.141\n",
    "minimum_budget = 1900000000\n",
    "\n",
    "rho = 0.019\n",
    "ret = 0.0014\n",
    "\n",
    "time = np.arange(n_time)\n",
    "trials = np.arange(n_trials)"
   ]
  },
  {
   "cell_type": "code",
   "execution_count": 211,
   "metadata": {},
   "outputs": [],
   "source": [
    "# Decision variables\n",
    "assigned = ftcp.binary_var_matrix(keys1=players.index.values, keys2=time, name = \"assign_%s_%s\")\n",
    "lent_out = ftcp.binary_var_matrix(keys1=players.index.values, keys2=time, name = \"lentout_%s_%s\")\n",
    "borrowed = ftcp.binary_var_matrix(keys1=players.index.values, keys2=time, name = \"borrowed_%s_%s\")\n",
    "\n",
    "budget = ftcp.continuous_var_list(keys=time, name = \"Budget_%s\", lb=0)\n",
    "\n",
    "other_revenue = ftcp.continuous_var_list(keys=time, name = \"Other Revenue_%s\", lb=0)\n",
    "other_expenses = ftcp.continuous_var_list(keys=time, name = \"Other Expenses_%s\", lb=0)\n",
    "\n",
    "lending_rev = ftcp.continuous_var_list(keys=time, name = \"Lending Revenue_%s\", lb=0)\n",
    "borrowing_expense = ftcp.continuous_var_list(keys=time, name = \"Borrowing Expense_%s\", lb=0)\n",
    "\n",
    "borrowing_wage = ftcp.continuous_var_list(keys=time, name = \"Borrowing Wage_%s\", lb=0)\n",
    "wages = ftcp.continuous_var_list(keys=time, name = \"Wages_%s\", lb=0)\n",
    "\n",
    "team_value = ftcp.continuous_var_matrix(keys1=time, keys2=trials, name = \"Team Value_%s_%s\")\n",
    "sunset_value = ftcp.continuous_var_list(keys=trials, name = \"Sunset Value_%s\")\n",
    "selection_value = ftcp.continuous_var_list(keys=trials,name = \"Selection Value_%s\")\n",
    "optim_value = ftcp.continuous_var(name = \"Optimisation Value\")"
   ]
  },
  {
   "cell_type": "code",
   "execution_count": 212,
   "metadata": {},
   "outputs": [],
   "source": [
    "# Non decision variables\n",
    "# Total number of players owned by the team is not the same as number of players playing in tournament\n",
    "N_owned = ftcp.integer_var_list(keys = time, name = 'Number of Players owned by the team_%s', ub=30)\n",
    "N_team = ftcp.integer_var_list(keys = time, name = 'Number of Players in the team_%s', lb=22, ub=25)\n",
    "N_raritan = ftcp.integer_var_list(keys = time, name = 'Number of Raritan Players in the team_%s', lb=18)\n",
    "\n",
    "# Number of players in each role\n",
    "N_gk = ftcp.integer_var_list(keys = time, name = \"Number of goalkeepers_%s\", lb=2, ub=3)\n",
    "N_df = ftcp.integer_var_list(keys = time, name = \"Number of defenders_%s\", lb=8, ub=10)\n",
    "N_mf = ftcp.integer_var_list(keys = time, name = \"Number of midfielders_%s\", lb=8, ub=10)\n",
    "N_fw = ftcp.integer_var_list(keys = time, name = \"Number of forwards_%s\", lb=3, ub=4)"
   ]
  },
  {
   "cell_type": "code",
   "execution_count": 213,
   "metadata": {},
   "outputs": [
    {
     "name": "stderr",
     "output_type": "stream",
     "text": [
      "C:\\Users\\yunwa\\AppData\\Local\\Temp\\ipykernel_15828\\862434681.py:30: RuntimeWarning: overflow encountered in long_scalars\n",
      "  savings_account = year * int(minimum_budget/4)\n"
     ]
    },
    {
     "data": {
      "text/plain": [
       "docplex.mp.LinearConstraint[](Optimisation Value,EQ,Selection Value_0+Selection Value_1+Selection Value_2+Selection Value_3+Selection Value_4+Selection Value_5+Selection Value_6+Selection Value_7+Selection Value_8+Selection Value_9+Selection Value_10+Selection Value_11+Selection Value_12+Selection Value_13+Selection Value_14+Selection Value_15+Selection Value_16+Selection Value_17+Selection Value_18+Selection Value_19+Selection Value_20+Selection Value_21+Selection Value_22+Selection Value_23+Selection Value_24+Selection Value_25+Selection Value_26+Selection Value_27+Selection Value_28+Selection Value_29+Selection Value_30+Selection Value_31+Selection Value_32+Selection Value_33+Selection Value_34+Selection Value_35+Selection Value_36+Selection Value_37+Selection Value_38+Selection Value_39+Selection Value_40+Selection Value_41+Selection Value_42+Selection Value_43+Selection Value_44+Selection Value_45+Selection Value_46+Selection Value_47+Selection Value_48+Selection Value_49)"
      ]
     },
     "execution_count": 213,
     "metadata": {},
     "output_type": "execute_result"
    }
   ],
   "source": [
    "# Set up Constraints for number of players\n",
    "for year in time:\n",
    "    for trial in trials:\n",
    "        ###\n",
    "        # Not used in optim, but will be used as constraint to control costs\n",
    "        ###\n",
    "        \n",
    "        ftcp.add_constraint(team_value[year, trial] == (ftcp.sum((assigned[index, year] + borrowed[index, year]) * market_values[trial, index, year] for index in range(n_players))\n",
    "                            - ftcp.sum((assigned[index, year] + 1.1*borrowed[index, year] - 0.1*lent_out[index, year]) * salaries[index, year] for index in range(n_players)))/((1 + rho)**year))\n",
    "    \n",
    "    ftcp.add_constraint(other_revenue[year] == other_cashflows.loc[year, \"Revenue\"])\n",
    "    # ftcp.add_constraint(other_revenue[year] == 0)\n",
    "    ftcp.add_constraint(other_expenses[year] == other_cashflows.loc[year, \"Expense\"])\n",
    "    # ftcp.add_constraint(other_expenses[year] == 0)\n",
    "        \n",
    "    ftcp.add_constraint(lending_rev[year] == ftcp.sum(0.1 * lent_out[index, year] * salaries[index, year] for index in range(n_players)))\n",
    "    ftcp.add_constraint(borrowing_expense[year] == ftcp.sum(0.1 * borrowed[index, year] * salaries[index, year] for index in range(n_players)))\n",
    "\n",
    "    ftcp.add_constraint(borrowing_wage[year] == ftcp.sum(borrowed[index, year] * salaries[index, year] for index in range(n_players)))\n",
    "    ftcp.add_constraint(wages[year] == ftcp.sum((assigned[index, year] - lent_out[index, year]) * salaries[index, year] for index in range(n_players)))\n",
    "\n",
    "    previous_budget = starting_budget if year == 0 else budget[year-1]\n",
    "    ftcp.add_constraint(budget[year] == previous_budget * (1 + ret)\n",
    "                        + other_revenue[year] + lending_rev[year]\n",
    "                        - other_expenses[year] - borrowing_wage[year] - wages[year] - borrowing_expense[year])\n",
    "    \n",
    "    if year > 5:\n",
    "        savings_account = minimum_budget\n",
    "    else:\n",
    "        savings_account = year * int(minimum_budget/4)\n",
    "\n",
    "    ftcp.add_constraint(budget[year] >= savings_account)\n",
    "\n",
    "    ftcp.add_constraint(N_gk[year] == ftcp.sum((assigned[index, year] + borrowed[index, year] - lent_out[index, year]) * player['GK'] for index, player in players.iterrows()))\n",
    "    ftcp.add_constraint(N_df[year] == ftcp.sum((assigned[index, year] + borrowed[index, year] - lent_out[index, year]) * player['DF'] for index, player in players.iterrows()))\n",
    "    ftcp.add_constraint(N_mf[year] == ftcp.sum((assigned[index, year] + borrowed[index, year] - lent_out[index, year]) * player['MF'] for index, player in players.iterrows()))\n",
    "    ftcp.add_constraint(N_fw[year] == ftcp.sum((assigned[index, year] + borrowed[index, year] - lent_out[index, year]) * player['FW'] for index, player in players.iterrows()))\n",
    "    \n",
    "    ftcp.add_constraint(N_raritan[year] == ftcp.sum((assigned[index, year] + borrowed[index, year] - lent_out[index, year]) * player['Raritan'] for index, player in players.iterrows()))\n",
    "    ftcp.add_constraint(N_gk[year] + N_df[year] + N_mf[year] + N_fw[year] == N_team[year])\n",
    "    ftcp.add_constraint(N_owned[year] == ftcp.sum(assigned[index, year] for index, player in players.iterrows()))\n",
    "    \n",
    "    for index, player in players.iterrows():\n",
    "        ftcp.add_constraint(assigned[index, year] * (player['Age'] + year) <= max_age)\n",
    "        \n",
    "        ftcp.add_constraint(assigned[index, year] <= (player['Raritan']))\n",
    "        ftcp.add_constraint(lent_out[index, year] <= assigned[index, year])\n",
    "        ftcp.add_constraint(borrowed[index, year] <= (1 - player['Raritan']))\n",
    "        \n",
    "for trial in trials:        \n",
    "    ftcp.add_constraint(sunset_value[trial] == ftcp.sum((assigned[index, time[-1]] + borrowed[index, time[-1]]) * market_values[trial, index, time[-1]] for index in range(n_players))/((1 + rho)**(n_time)))\n",
    "    ftcp.add_constraint(selection_value[trial] == sunset_value[trial]\n",
    "        + team_value[0, trial] * 1\n",
    "        + team_value[1, trial] * 1\n",
    "        + team_value[2, trial] * 2\n",
    "        + team_value[3, trial] * 2\n",
    "        + team_value[4, trial] * 3\n",
    "        + team_value[5, trial] * 3\n",
    "        + team_value[6, trial] * 3\n",
    "        + team_value[7, trial] * 4\n",
    "        + team_value[8, trial] * 4\n",
    "        + team_value[9, trial] * 6\n",
    "        )\n",
    "\n",
    "ftcp.add_constraint(optim_value == ftcp.sum(selection_value))"
   ]
  },
  {
   "cell_type": "code",
   "execution_count": 214,
   "metadata": {},
   "outputs": [
    {
     "name": "stdout",
     "output_type": "stream",
     "text": [
      "Model: Rarita Football Team Composition\n",
      " - number of variables: 73401\n",
      "   - binary=72660, integer=70, continuous=671\n",
      " - number of constraints: 97631\n",
      "   - linear=97631\n",
      " - parameters: defaults\n",
      " - objective: maximize\n",
      " - problem type is: MILP\n"
     ]
    }
   ],
   "source": [
    "ftcp.maximize(optim_value)\n",
    "ftcp.print_information()"
   ]
  },
  {
   "cell_type": "code",
   "execution_count": 215,
   "metadata": {},
   "outputs": [
    {
     "name": "stdout",
     "output_type": "stream",
     "text": [
      "Version identifier: 20.1.0.0 | 2020-11-10 | 9bedb6d68\n",
      "CPXPARAM_Read_DataCheck                          1\n",
      "Tried aggregator 2 times.\n",
      "MIP Presolve eliminated 95520 rows and 47259 columns.\n",
      "Aggregator did 24 substitutions.\n",
      "Reduced MIP has 2087 rows, 26118 columns, and 1343844 nonzeros.\n",
      "Reduced MIP has 25522 binaries, 70 generals, 0 SOSs, and 0 indicators.\n",
      "Presolve time = 2.25 sec. (1372.10 ticks)\n",
      "Tried aggregator 1 time.\n",
      "Detecting symmetries...\n",
      "Reduced MIP has 2087 rows, 26118 columns, and 1343844 nonzeros.\n",
      "Reduced MIP has 25522 binaries, 86 generals, 0 SOSs, and 0 indicators.\n",
      "Presolve time = 1.61 sec. (627.56 ticks)\n",
      "Probing fixed 0 vars, tightened 7 bounds.\n",
      "Probing time = 0.03 sec. (20.49 ticks)\n",
      "Cover probing fixed 0 vars, tightened 31 bounds.\n",
      "Clique table members: 1491.\n",
      "MIP emphasis: balance optimality and feasibility.\n",
      "MIP search method: dynamic search.\n",
      "Parallel mode: deterministic, using up to 12 threads.\n",
      "Root relaxation solution time = 1.20 sec. (501.95 ticks)\n",
      "\n",
      "        Nodes                                         Cuts/\n",
      "   Node  Left     Objective  IInf  Best Integer    Best Bound    ItCnt     Gap\n",
      "\n",
      "      0     0   1.17082e+12     3                 1.17082e+12     2456         \n",
      "*     0+    0                       1.17054e+12   1.17082e+12             0.02%\n",
      "      0     0   1.17079e+12     8   1.17054e+12      Fract: 1     2461    0.02%\n",
      "*     0+    0                       1.17078e+12   1.17079e+12             0.00%\n",
      "      0     0        cutoff         1.17078e+12   1.17079e+12     2461    0.00%\n",
      "      0     0        cutoff         1.17078e+12   1.17079e+12     2461    0.00%\n",
      "Elapsed time = 9.03 sec. (5033.26 ticks, tree = 0.01 MB, solutions = 2)\n",
      "\n",
      "Gomory fractional cuts applied:  1\n",
      "\n",
      "Root node processing (before b&c):\n",
      "  Real time             =    9.05 sec. (5039.83 ticks)\n",
      "Parallel b&c, 12 threads:\n",
      "  Real time             =    0.00 sec. (0.00 ticks)\n",
      "  Sync time (average)   =    0.00 sec.\n",
      "  Wait time (average)   =    0.00 sec.\n",
      "                          ------------\n",
      "Total (root+branch&cut) =    9.05 sec. (5039.83 ticks)\n"
     ]
    },
    {
     "data": {
      "text/plain": [
       "<JobSolveStatus.OPTIMAL_SOLUTION: 2>"
      ]
     },
     "execution_count": 215,
     "metadata": {},
     "output_type": "execute_result"
    }
   ],
   "source": [
    "ftcp.solve(log_output=True, clean_before_solve=True)\n",
    "ftcp.solve_status"
   ]
  },
  {
   "cell_type": "code",
   "execution_count": 216,
   "metadata": {},
   "outputs": [],
   "source": [
    "ftcp.solution.export(\"../data/optim-data\" + path + \"/optim_solution.json\")"
   ]
  },
  {
   "cell_type": "code",
   "execution_count": 217,
   "metadata": {},
   "outputs": [],
   "source": [
    "# import docplex.mp.conflict_refiner as cr\n",
    "\n",
    "# ftcp.solve()\n",
    "# solve_status = ftcp.get_solve_status()\n",
    "# if solve_status.name in ['INFEASIBLE_SOLUTION', 'INFEASIBLE_OR_UNBOUNDED_SOLUTION']:\n",
    "#     cref = cr.ConflictRefiner()\n",
    "#     print('show some of the constraints that can be removed to arrive at a minimal conflict')\n",
    "#     cref_result = cref.refine_conflict(ftcp, display=True)  # display flag is to show the conflicts\n",
    "\n",
    "#     cref_result.display()\n",
    "#     cref_result.as_output_table()"
   ]
  },
  {
   "cell_type": "code",
   "execution_count": null,
   "metadata": {},
   "outputs": [],
   "source": []
  }
 ],
 "metadata": {
  "interpreter": {
   "hash": "2f676bf427be959cf12da6211eea26d2cc53631aaec6c8787e7b7a840925e3fa"
  },
  "kernelspec": {
   "display_name": "Python 3.9.7 ('base')",
   "language": "python",
   "name": "python3"
  },
  "language_info": {
   "codemirror_mode": {
    "name": "ipython",
    "version": 3
   },
   "file_extension": ".py",
   "mimetype": "text/x-python",
   "name": "python",
   "nbconvert_exporter": "python",
   "pygments_lexer": "ipython3",
   "version": "3.8.9"
  },
  "orig_nbformat": 4
 },
 "nbformat": 4,
 "nbformat_minor": 2
}
