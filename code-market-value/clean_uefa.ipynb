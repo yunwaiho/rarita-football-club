{
 "cells": [
  {
   "cell_type": "code",
   "execution_count": 1,
   "metadata": {},
   "outputs": [],
   "source": [
    "import pandas as pd"
   ]
  },
  {
   "cell_type": "markdown",
   "metadata": {},
   "source": [
    "## Reading data"
   ]
  },
  {
   "cell_type": "code",
   "execution_count": 2,
   "metadata": {},
   "outputs": [],
   "source": [
    "year = \"2021\" # change this accordingly!\n",
    "\n",
    "importPath = \"../data/uefa-data/raw/\" + year + \"_\"\n",
    "exportPath = \"../data/uefa-data/processed/\" + year + \"_\"\n",
    "\n",
    "mv2020 = pd.read_csv(\"../data/uefa-data/raw/2020_\" + \"mv.csv\")\n",
    "mv2020 = mv2020.drop(columns = [\"transm id\", \"Player\"])\n",
    "mv2020.to_csv(\"../data/uefa-data/processed/\"+ \"2020_mv.csv\", index = False)\n",
    "\n",
    "mv = pd.read_csv(importPath + \"mv.csv\")\n",
    "\n",
    "defense = pd.read_csv(importPath + \"defense.csv\", header = [0,1], skiprows = [2])\n",
    "goalkeeping = pd.read_csv(importPath + \"goalkeeping.csv\", header = [0,1], skiprows = [2])\n",
    "passing = pd.read_csv(importPath + \"passing.csv\", header = [0,1], skiprows = [2])\n",
    "shooting =pd.read_csv(importPath + \"shooting.csv\", header = [0,1], skiprows = [2])\n",
    "\n",
    "def clean_header(data: list):\n",
    "    header = []\n",
    "    for i in data:\n",
    "        if i[0].startswith('Unnamed: '):\n",
    "            header.append(i[1])\n",
    "        else:\n",
    "            header.append(' '.join(i))\n",
    "    return header\n",
    "\n",
    "defense.columns = clean_header(defense.columns)\n",
    "goalkeeping.columns = clean_header(goalkeeping.columns)\n",
    "passing.columns = clean_header(passing.columns)\n",
    "shooting.columns = clean_header(shooting.columns)\n",
    "\n"
   ]
  },
  {
   "cell_type": "markdown",
   "metadata": {},
   "source": [
    "## Creating player stats file\n",
    "\n",
    "In this step, we combine basic player information common to all data files and mv into one file.\n",
    "\n",
    "The predictors 'Nation', 'Squad' and 'Born' are removed as they are not very helpful in predicting Raritan market values"
   ]
  },
  {
   "cell_type": "code",
   "execution_count": 3,
   "metadata": {},
   "outputs": [
    {
     "name": "stdout",
     "output_type": "stream",
     "text": [
      "                        Player   Nation   Pos             Squad  Age  Born  \\\n",
      "0     Pape Abou Cisse\\8bc373ea   sn SEN    DF     gr Olympiacos   24  1995   \n",
      "1       Tammy Abraham\\f586779e  eng ENG    FW       eng Chelsea   22  1997   \n",
      "2    Francesco Acerbi\\b96b595c   it ITA    DF          it Lazio   32  1988   \n",
      "3        Marcos Acuña\\81442ecb   ar ARG    DF        es Sevilla   28  1991   \n",
      "4         Tyler Adams\\2b09d998   us USA  DFMF     de RB Leipzig   21  1999   \n",
      "..                         ...      ...   ...               ...  ...   ...   \n",
      "731    Joshua Zirkzee\\028e70b9   nl NED    MF  de Bayern Munich   19  2001   \n",
      "732      Hakim Ziyech\\6622454d   ma MAR  FWMF       eng Chelsea   27  1993   \n",
      "733        Kurt Zouma\\ce4246f5   fr FRA    DF       eng Chelsea   25  1994   \n",
      "734  Oleksandr Zubkov\\adfbe1f5   ua UKR  FWMF    hu Ferencváros   23  1996   \n",
      "735   Martin Ødegaard\\79300479   no NOR    MF    es Real Madrid   21  1998   \n",
      "\n",
      "     90s  \n",
      "0    5.0  \n",
      "1    2.6  \n",
      "2    8.0  \n",
      "3    3.6  \n",
      "4    3.2  \n",
      "..   ...  \n",
      "731  0.1  \n",
      "732  3.9  \n",
      "733  5.0  \n",
      "734  4.3  \n",
      "735  1.5  \n",
      "\n",
      "[736 rows x 7 columns]\n"
     ]
    }
   ],
   "source": [
    "playerStats = passing.iloc[:, 0:7]\n",
    "print(playerStats)\n",
    "# players will be identified by their fbref id \n",
    "playerStats[\"Player\"] = playerStats[\"Player\"].apply(lambda x: x.split(\"\\\\\")[1])\n",
    "playerStats[\"mv\"] = mv[\"mv\"]\n",
    "\n",
    "# quick sanity check because everything should be in order\n",
    "for i in range(len(mv)):\n",
    "    if mv[\"fbref id\"][i] != playerStats[\"Player\"][i]:\n",
    "        print(str(i) + \": id mismatch\")\n",
    "\n",
    "# separate positions\n",
    "validPos = [\"DF\", \"FW\", \"GK\", \"MF\"]\n",
    "isPos = {key: [0] * len(playerStats) for key in validPos}\n",
    "\n",
    "for i in range(len(playerStats[\"Pos\"])):\n",
    "    pos = playerStats[\"Pos\"][i];\n",
    "    # split Pos by two letter segments\n",
    "    pos = [pos[j:j + 2] for j in range(0, len(pos), 2)]\n",
    "    \n",
    "    for j in pos:\n",
    "        isPos[j][i] = 1;\n",
    "\n",
    "playerStats = pd.concat([playerStats.drop(columns = \"Pos\"), pd.DataFrame(isPos)], axis = 1)\n",
    "\n",
    "# remove unnecessary predictors\n",
    "playerStats = playerStats.drop(columns = [\"Nation\", \"Squad\", \"Born\"])\n",
    "\n",
    "playerStats.head()\n",
    "playerStats.to_csv(exportPath + \"player_stats.csv\", index = False)\n"
   ]
  },
  {
   "cell_type": "markdown",
   "metadata": {},
   "source": [
    "## Cleaning other files"
   ]
  },
  {
   "cell_type": "code",
   "execution_count": 4,
   "metadata": {},
   "outputs": [],
   "source": [
    "\n",
    "\n",
    "\n",
    "# this section is a terrible mess of hard coding, please don't ever do this\n",
    "playerDefense = pd.concat([defense[\"Player\"].apply(lambda x: x.split(\"\\\\\")[1]), defense.iloc[:, 6:]], axis = 1)\n",
    "playerPassing = pd.concat([passing[\"Player\"].apply(lambda x: x.split(\"\\\\\")[1]), passing.iloc[:, 6:]], axis = 1)\n",
    "playerGoalkeeping = pd.concat([goalkeeping[\"Player\"].apply(lambda x: x.split(\"\\\\\")[1]), goalkeeping.iloc[:, 6:]], axis = 1)\n",
    "playerShooting = pd.concat([shooting[\"Player\"].apply(lambda x: x.split(\"\\\\\")[1]), shooting.iloc[:, 6:]], axis = 1)\n",
    "\n",
    "# change to per 90 stats\n",
    "# convertTo90s list contains every column that we dont want to divide by 90s\n",
    "convertTo90s = playerDefense.columns.difference([\"Player\", \"90s\", \"Vs D Tkl%\", \"Pres %\"])\n",
    "playerDefense[convertTo90s] = playerDefense[convertTo90s].div(playerDefense[\"90s\"], axis = 0).round(decimals = 2)\n",
    "\n",
    "convertTo90s = playerShooting.columns.difference([\"Player\", \"90s\", \"Stan SoT%\", \"Stan Sh/90\", \"Stan SoT/90\", \n",
    "    \"Stan G/Sh\", \"Stan G/SoT\", \"Stan Dist\", \"Expe npxG/Sh\"])\n",
    "playerShooting[convertTo90s] = playerShooting[convertTo90s].div(playerShooting[\"90s\"], axis = 0).round(decimals = 2)\n",
    "\n",
    "convertTo90s = playerPassing.columns.difference([\"Player\", \"90s\", \"Tota Cmp%\", \"Shor Cmp%\", \"Medi Cmp%\", \"Long Cmp%\"])\n",
    "playerPassing[convertTo90s] = playerPassing[convertTo90s].div(playerPassing[\"90s\"], axis = 0).round(decimals = 2)\n",
    "\n",
    "convertTo90s = playerGoalkeeping.columns.difference([\"Player\", \"Play MP\", \"Play Starts\", \"Play Min\",\"Play 90s\", \"Perf GA90\", \"Perf Save%\", \"Perf CS%\"])\n",
    "playerGoalkeeping[convertTo90s] = playerGoalkeeping[convertTo90s].div(playerGoalkeeping[\"Play 90s\"], axis = 0).round(decimals = 2)\n",
    "\n",
    "\n",
    "playerGoalkeeping.drop(columns = \"Play 90s\").to_csv(exportPath + \"goalkeeping.csv\", index = False)\n",
    "playerShooting.drop(columns = \"90s\").to_csv(exportPath + \"shooting.csv\", index = False)\n",
    "playerPassing.drop(columns = \"90s\").to_csv(exportPath + \"passing.csv\", index = False)\n",
    "playerDefense.drop(columns = \"90s\").to_csv(exportPath + \"defense.csv\", index = False)\n",
    "\n",
    "\n"
   ]
  }
 ],
 "metadata": {
  "interpreter": {
   "hash": "916dbcbb3f70747c44a77c7bcd40155683ae19c65e1c03b4aa3499c5328201f1"
  },
  "kernelspec": {
   "display_name": "Python 3.8.10 64-bit",
   "language": "python",
   "name": "python3"
  },
  "language_info": {
   "codemirror_mode": {
    "name": "ipython",
    "version": 3
   },
   "file_extension": ".py",
   "mimetype": "text/x-python",
   "name": "python",
   "nbconvert_exporter": "python",
   "pygments_lexer": "ipython3",
   "version": "3.8.10"
  },
  "orig_nbformat": 4
 },
 "nbformat": 4,
 "nbformat_minor": 2
}
