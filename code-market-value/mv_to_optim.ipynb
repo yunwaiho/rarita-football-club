{
 "cells": [
  {
   "cell_type": "code",
   "execution_count": 104,
   "metadata": {},
   "outputs": [],
   "source": [
    "import pandas as pd\n",
    "import numpy as np"
   ]
  },
  {
   "cell_type": "markdown",
   "metadata": {},
   "source": [
    "## Reading data"
   ]
  },
  {
   "cell_type": "code",
   "execution_count": 105,
   "metadata": {},
   "outputs": [
    {
     "name": "stdout",
     "output_type": "stream",
     "text": [
      "(2822, 9)\n"
     ]
    }
   ],
   "source": [
    "large = False\n",
    "tournament = False\n",
    "\n",
    "if tournament:\n",
    "    tmt = \"t_\"\n",
    "else:\n",
    "    tmt = \"l_\"\n",
    "\n",
    "if large:\n",
    "    path = \"market_value model\\large\"\n",
    "else:\n",
    "    path = \"market_value model\"\n",
    "\n",
    "shooting = pd.read_csv(path + \"/mv-simulation-shooting.csv\", index_col=0)\n",
    "passing = pd.read_csv(path + \"/mv-simulation-passing.csv\", index_col=0)\n",
    "defense = pd.read_csv(path + \"/mv-simulation-defense.csv\", index_col=0)\n",
    "goalkeeping = pd.read_csv(path + \"/mv-simulation-goalkeeping.csv\", index_col=0)\n",
    "\n",
    "player_shooting = pd.read_csv(f\"../data/processed-data/{tmt}shooting_clean.csv\", index_col=0)\n",
    "player_passing = pd.read_csv(f\"../data/processed-data/{tmt}passing_clean_90.csv\", index_col=0)\n",
    "player_defense = pd.read_csv(f\"../data/processed-data/{tmt}defense_clean.csv\", index_col=0)\n",
    "player_goalkeeping = pd.read_csv(f\"../data/processed-data/{tmt}goalkeeping_clean.csv\", index_col=0)\n",
    "\n",
    "all_players = pd.concat([\n",
    "    player_shooting[['Player', 'Nation', 'Squad', 'Age', 'Year', 'FW', 'MF', 'DF', 'GK']],\n",
    "    player_passing[['Player', 'Nation', 'Squad', 'Age', 'Year', 'FW', 'MF', 'DF', 'GK']],\n",
    "    player_defense[['Player', 'Nation', 'Squad', 'Age', 'Year', 'FW', 'MF', 'DF', 'GK']],\n",
    "    player_goalkeeping[['Player', 'Nation', 'Squad', 'Age', 'Year', 'FW', 'MF', 'DF', 'GK']],\n",
    "    ])\n",
    "\n",
    "# all_players = pd.concat([\n",
    "#     player_shooting[['Player', 'Nation', 'Age', 'Year', 'FW', 'MF', 'DF', 'GK']],\n",
    "#     player_passing[['Player', 'Nation', 'Age', 'Year', 'FW', 'MF', 'DF', 'GK']],\n",
    "#     player_defense[['Player', 'Nation', 'Age', 'Year', 'FW', 'MF', 'DF', 'GK']],\n",
    "#     player_goalkeeping[['Player', 'Nation', 'Age', 'Year', 'FW', 'MF', 'DF', 'GK']],\n",
    "#     ])\n",
    "\n",
    "all_players = all_players[all_players.Year == 2021].drop_duplicates().reset_index(drop=True)\n",
    "print(all_players.shape)\n",
    "all_players = all_players.assign(Raritan = lambda x: x.Nation == \"Rarita\")"
   ]
  },
  {
   "cell_type": "code",
   "execution_count": null,
   "metadata": {},
   "outputs": [],
   "source": []
  },
  {
   "cell_type": "code",
   "execution_count": 106,
   "metadata": {},
   "outputs": [
    {
     "name": "stdout",
     "output_type": "stream",
     "text": [
      "(105, 10)\n",
      "(2717, 8)\n"
     ]
    }
   ],
   "source": [
    "print(all_players[all_players[[\"Player\", \"Nation\", \"Age\"]].duplicated()].sort_values(by = \"Player\").shape)\n",
    "\n",
    "all_players_group = all_players.groupby([\"Player\", \"Nation\", \"Age\"])\n",
    "all_players = all_players_group[['FW', 'MF', 'DF', 'GK', 'Raritan']].any().reset_index()\n",
    "print(all_players.shape)"
   ]
  },
  {
   "cell_type": "code",
   "execution_count": 107,
   "metadata": {},
   "outputs": [
    {
     "name": "stdout",
     "output_type": "stream",
     "text": [
      "(488, 8)\n"
     ]
    }
   ],
   "source": [
    "tournament_players = pd.read_csv(\"../data/optim-data/0_tournament_players.csv\", index_col=0)\n",
    "print(tournament_players.shape)"
   ]
  },
  {
   "cell_type": "code",
   "execution_count": 108,
   "metadata": {},
   "outputs": [],
   "source": [
    "all_players = all_players[~all_players.Player.isin(tournament_players.Player)].reset_index(drop=True)\n"
   ]
  },
  {
   "cell_type": "code",
   "execution_count": 109,
   "metadata": {},
   "outputs": [],
   "source": [
    "trials = max(shooting.trial) + 1\n",
    "# trials = 1\n",
    "\n",
    "# Remove duplicates in players\n",
    "shooting = shooting.groupby([\"Player\", \"Nation\", \"trial\"])[[\"mv0\", \"mv1\", \"mv2\", \"mv3\", \"mv4\", \"mv5\", \"mv6\", \"mv7\", \"mv8\", \"mv9\"]].median().reset_index()\n",
    "passing = passing.groupby([\"Player\", \"Nation\", \"trial\"])[[\"mv0\", \"mv1\", \"mv2\", \"mv3\", \"mv4\", \"mv5\", \"mv6\", \"mv7\", \"mv8\", \"mv9\"]].median().reset_index()\n",
    "defense = defense.groupby([\"Player\", \"Nation\", \"trial\"])[[\"mv0\", \"mv1\", \"mv2\", \"mv3\", \"mv4\", \"mv5\", \"mv6\", \"mv7\", \"mv8\", \"mv9\"]].median().reset_index()\n",
    "goalkeeping = goalkeeping.groupby([\"Player\", \"Nation\", \"trial\"])[[\"mv0\", \"mv1\", \"mv2\", \"mv3\", \"mv4\", \"mv5\", \"mv6\", \"mv7\", \"mv8\", \"mv9\"]].median().reset_index()"
   ]
  },
  {
   "cell_type": "code",
   "execution_count": 110,
   "metadata": {},
   "outputs": [],
   "source": [
    "pd.options.display.max_rows = 1000\n",
    "all_players[[\"FW\",\"MF\", \"DF\", \"GK\", \"Raritan\"]] = all_players[[\"FW\",\"MF\", \"DF\", \"GK\", \"Raritan\"]].astype(int)\n",
    "if large:\n",
    "    all_players.to_csv(r\"..\\data\\optim-data\\large\\0_selection_players.csv\")\n",
    "else:\n",
    "    all_players.to_csv(r\"..\\data\\optim-data\\0_selection_players.csv\")\n",
    "# all_players.to_csv(r\"..\\data\\optim-data\\0_tournament_players.csv\")"
   ]
  },
  {
   "cell_type": "code",
   "execution_count": 111,
   "metadata": {},
   "outputs": [],
   "source": [
    "all_players['player_id'] = all_players.apply(lambda row: \"-\".join([row[0], row[1]]), axis=1)\n",
    "\n",
    "shooting['player_id'] = shooting.apply(lambda row: \"-\".join([row[0], row[1]]), axis=1)\n",
    "passing['player_id'] = passing.apply(lambda row: \"-\".join([row[0], row[1]]), axis=1)\n",
    "defense['player_id'] = defense.apply(lambda row: \"-\".join([row[0], row[1]]), axis=1)\n",
    "goalkeeping['player_id'] = goalkeeping.apply(lambda row: \"-\".join([row[0], row[1]]), axis=1)\n",
    "\n",
    "shooting.index = pd.MultiIndex.from_frame(shooting[['player_id', 'trial']])\n",
    "passing.index = pd.MultiIndex.from_frame(passing[['player_id', 'trial']])\n",
    "defense.index = pd.MultiIndex.from_frame(defense[['player_id', 'trial']])\n",
    "goalkeeping.index = pd.MultiIndex.from_frame(goalkeeping[['player_id', 'trial']])"
   ]
  },
  {
   "cell_type": "code",
   "execution_count": 112,
   "metadata": {},
   "outputs": [
    {
     "data": {
      "text/plain": [
       "Player                     a.fekete\n",
       "Nation                Byasier Pujan\n",
       "Age                              17\n",
       "FW                                0\n",
       "MF                                1\n",
       "DF                                0\n",
       "GK                                0\n",
       "Raritan                           0\n",
       "player_id    a.fekete-Byasier Pujan\n",
       "Name: 27, dtype: object"
      ]
     },
     "execution_count": 112,
     "metadata": {},
     "output_type": "execute_result"
    }
   ],
   "source": [
    "all_players.iloc[27, ]"
   ]
  },
  {
   "cell_type": "code",
   "execution_count": 113,
   "metadata": {},
   "outputs": [
    {
     "name": "stdout",
     "output_type": "stream",
     "text": [
      "0 out of 2422\n",
      "100 out of 2422\n",
      "200 out of 2422\n",
      "300 out of 2422\n",
      "400 out of 2422\n",
      "500 out of 2422\n",
      "600 out of 2422\n",
      "700 out of 2422\n",
      "800 out of 2422\n",
      "900 out of 2422\n",
      "1000 out of 2422\n",
      "1100 out of 2422\n",
      "1200 out of 2422\n",
      "1300 out of 2422\n",
      "1400 out of 2422\n",
      "1500 out of 2422\n",
      "1600 out of 2422\n",
      "1700 out of 2422\n",
      "1800 out of 2422\n",
      "1900 out of 2422\n",
      "2000 out of 2422\n",
      "2100 out of 2422\n",
      "2200 out of 2422\n",
      "2300 out of 2422\n",
      "2400 out of 2422\n"
     ]
    }
   ],
   "source": [
    "from itertools import product\n",
    "\n",
    "player_mv = pd.DataFrame()\n",
    "player_mv.index = pd.MultiIndex.from_tuples(list(product(all_players.player_id, np.arange(trials))))\n",
    "\n",
    "for i in all_players.index:\n",
    "    if (i % 100 == 0):\n",
    "        print(f\"{i} out of {all_players.shape[0]}\")\n",
    "\n",
    "    player_id = \"-\".join([all_players.iloc[i, 0], all_players.iloc[i, 1]])\n",
    "    \n",
    "    role_FW = all_players.iloc[i, 3]\n",
    "    role_MF = all_players.iloc[i, 4]\n",
    "    role_DF = all_players.iloc[i, 5]\n",
    "    role_GK = all_players.iloc[i, 6]\n",
    "\n",
    "    best_role = -1\n",
    "    mv = float(\"-Inf\")\n",
    "    best_df = None\n",
    "    other_mv = float(\"-Inf\")\n",
    "    other_df = None\n",
    "    \n",
    "    for role_i, role in enumerate([role_FW, role_MF, role_DF, role_GK]):\n",
    "        if role_i == 0:\n",
    "            df = shooting\n",
    "        elif role_i == 1:\n",
    "            df = passing\n",
    "        elif role_i == 2:\n",
    "            df = defense\n",
    "        elif role_i == 3:\n",
    "            df = goalkeeping\n",
    "        \n",
    "        try:\n",
    "            if role == 1:\n",
    "                if best_role == -1 or df.loc[(player_id, 0), \"mv0\"] > mv:\n",
    "                    best_role = role_i\n",
    "                    best_df = df\n",
    "                    mv = df.loc[(player_id, 0), \"mv0\"]\n",
    "                if df.loc[(player_id, 0), \"mv0\"] > other_mv:\n",
    "                    other_mv = df.loc[(player_id, 0), \"mv0\"]\n",
    "                    other_df = df\n",
    "                    \n",
    "        except KeyError:\n",
    "            pass\n",
    "    \n",
    "    if mv == float(\"-Inf\"):\n",
    "        best_df = other_df\n",
    "    \n",
    "    all_players.iloc[i, 3] = 0\n",
    "    all_players.iloc[i, 4] = 0\n",
    "    all_players.iloc[i, 5] = 0\n",
    "    all_players.iloc[i, 6] = 0\n",
    "\n",
    "    try:\n",
    "        all_players.iloc[i, best_role+3] = 1\n",
    "    except:\n",
    "        pass\n",
    "\n",
    "    for j in np.arange(trials):\n",
    "        for t in np.arange(10):\n",
    "            mv_t = \"mv\" + str(t)\n",
    "            \n",
    "            try:\n",
    "                player_mv.loc[(player_id, j), mv_t] = best_df.loc[(player_id, j), mv_t]\n",
    "            except:\n",
    "                break\n",
    "\n",
    "player_mv = player_mv.reset_index()"
   ]
  },
  {
   "cell_type": "code",
   "execution_count": 117,
   "metadata": {},
   "outputs": [
    {
     "data": {
      "text/html": [
       "<div>\n",
       "<style scoped>\n",
       "    .dataframe tbody tr th:only-of-type {\n",
       "        vertical-align: middle;\n",
       "    }\n",
       "\n",
       "    .dataframe tbody tr th {\n",
       "        vertical-align: top;\n",
       "    }\n",
       "\n",
       "    .dataframe thead th {\n",
       "        text-align: right;\n",
       "    }\n",
       "</style>\n",
       "<table border=\"1\" class=\"dataframe\">\n",
       "  <thead>\n",
       "    <tr style=\"text-align: right;\">\n",
       "      <th></th>\n",
       "      <th>Player</th>\n",
       "      <th>Nation</th>\n",
       "      <th>Age</th>\n",
       "      <th>FW</th>\n",
       "      <th>MF</th>\n",
       "      <th>DF</th>\n",
       "      <th>GK</th>\n",
       "      <th>Raritan</th>\n",
       "      <th>player_id</th>\n",
       "    </tr>\n",
       "  </thead>\n",
       "  <tbody>\n",
       "    <tr>\n",
       "      <th>2381</th>\n",
       "      <td>z.knezevi</td>\n",
       "      <td>Rarita</td>\n",
       "      <td>28</td>\n",
       "      <td>1</td>\n",
       "      <td>0</td>\n",
       "      <td>0</td>\n",
       "      <td>0</td>\n",
       "      <td>1</td>\n",
       "      <td>z.knezevi-Rarita</td>\n",
       "    </tr>\n",
       "    <tr>\n",
       "      <th>2382</th>\n",
       "      <td>z.krajnc</td>\n",
       "      <td>Lefghau</td>\n",
       "      <td>29</td>\n",
       "      <td>0</td>\n",
       "      <td>0</td>\n",
       "      <td>1</td>\n",
       "      <td>0</td>\n",
       "      <td>0</td>\n",
       "      <td>z.krajnc-Lefghau</td>\n",
       "    </tr>\n",
       "    <tr>\n",
       "      <th>2383</th>\n",
       "      <td>z.lefevre</td>\n",
       "      <td>Quewenia</td>\n",
       "      <td>21</td>\n",
       "      <td>0</td>\n",
       "      <td>0</td>\n",
       "      <td>0</td>\n",
       "      <td>1</td>\n",
       "      <td>0</td>\n",
       "      <td>z.lefevre-Quewenia</td>\n",
       "    </tr>\n",
       "    <tr>\n",
       "      <th>2384</th>\n",
       "      <td>z.longole</td>\n",
       "      <td>Lefghau</td>\n",
       "      <td>24</td>\n",
       "      <td>0</td>\n",
       "      <td>0</td>\n",
       "      <td>1</td>\n",
       "      <td>0</td>\n",
       "      <td>0</td>\n",
       "      <td>z.longole-Lefghau</td>\n",
       "    </tr>\n",
       "  </tbody>\n",
       "</table>\n",
       "</div>"
      ],
      "text/plain": [
       "         Player    Nation  Age  FW  MF  DF  GK  Raritan           player_id\n",
       "2381  z.knezevi    Rarita   28   1   0   0   0        1    z.knezevi-Rarita\n",
       "2382   z.krajnc   Lefghau   29   0   0   1   0        0    z.krajnc-Lefghau\n",
       "2383  z.lefevre  Quewenia   21   0   0   0   1        0  z.lefevre-Quewenia\n",
       "2384  z.longole   Lefghau   24   0   0   1   0        0   z.longole-Lefghau"
      ]
     },
     "execution_count": 117,
     "metadata": {},
     "output_type": "execute_result"
    }
   ],
   "source": [
    "all_players[2381:2385]"
   ]
  },
  {
   "cell_type": "code",
   "execution_count": 115,
   "metadata": {},
   "outputs": [],
   "source": [
    "player_mv = player_mv.fillna(0)\n",
    "player_mv = player_mv.rename(columns={\"level_0\": \"player_id\", \"level_1\": \"trial\"})\n",
    "player_mv = player_mv.sort_values(by = [\"trial\", \"player_id\"])\n",
    "if large:\n",
    "    player_mv.to_csv(r\"..\\data\\optim-data\\large\\0_selection_mv.csv\")    \n",
    "else:\n",
    "    player_mv.to_csv(r\"..\\data\\optim-data\\0_selection_mv.csv\")\n",
    "\n",
    "\n",
    "# player_mv.to_csv(r\"..\\data\\optim-data\\0_tournament_mv.csv\")"
   ]
  },
  {
   "cell_type": "code",
   "execution_count": 116,
   "metadata": {},
   "outputs": [],
   "source": [
    "all_players.to_csv(\"../data/optim-data/0_selection_players.csv\")"
   ]
  },
  {
   "cell_type": "code",
   "execution_count": null,
   "metadata": {},
   "outputs": [],
   "source": []
  }
 ],
 "metadata": {
  "interpreter": {
   "hash": "916dbcbb3f70747c44a77c7bcd40155683ae19c65e1c03b4aa3499c5328201f1"
  },
  "kernelspec": {
   "display_name": "Python 3.8.10 64-bit",
   "language": "python",
   "name": "python3"
  },
  "language_info": {
   "codemirror_mode": {
    "name": "ipython",
    "version": 3
   },
   "file_extension": ".py",
   "mimetype": "text/x-python",
   "name": "python",
   "nbconvert_exporter": "python",
   "pygments_lexer": "ipython3",
   "version": "3.8.10"
  },
  "orig_nbformat": 4
 },
 "nbformat": 4,
 "nbformat_minor": 2
}
