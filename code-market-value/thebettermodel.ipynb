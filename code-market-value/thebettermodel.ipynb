{
 "cells": [
  {
   "cell_type": "code",
   "execution_count": 2,
   "metadata": {},
   "outputs": [],
   "source": [
    "import pandas as pd\n",
    "from sklearn.linear_model import GammaRegressor\n",
    "from sklearn.model_selection import train_test_split\n"
   ]
  },
  {
   "cell_type": "markdown",
   "metadata": {},
   "source": [
    "## Reading data"
   ]
  },
  {
   "cell_type": "code",
   "execution_count": 9,
   "metadata": {},
   "outputs": [
    {
     "name": "stdout",
     "output_type": "stream",
     "text": [
      "          Player  Age             Squad  DF  MF  FW  GK\n",
      "4055     a.akoth   27   Supreme Jaguars   1   1   0   0\n",
      "2900     a.akoth   27       Mighty Jays   1   0   0   0\n",
      "4690    a.dekker   27  Strange Pioneers   0   1   0   0\n",
      "4413    a.dekker   27  Hideous Spartans   0   1   0   0\n",
      "3104    a.logose   25  Swift Musketeers   0   1   1   0\n",
      "...          ...  ...               ...  ..  ..  ..  ..\n",
      "5409  z.nakagawa   22    Mad Wolverines   0   1   0   0\n",
      "5180  z.nakiwala   24  Running Bigfoots   0   0   1   0\n",
      "4950  z.nakiwala   24    Horrible Bison   0   1   1   0\n",
      "2810      z.okon   22       Green Fleet   1   0   0   0\n",
      "3808      z.okon   22   Horrible Flames   1   0   0   0\n",
      "\n",
      "[234 rows x 7 columns]\n"
     ]
    }
   ],
   "source": [
    "salary2020 = pd.read_csv(\"../data/processed-data/salary_2020.csv\", index_col = 0)\n",
    "salary2021 = pd.read_csv(\"../data/processed-data/salary_2021.csv\", index_col = 0)\n",
    "defense = pd.read_csv(\"../data/processed-data/l_defense_clean.csv\", index_col = 0)\n",
    "\n",
    "salary2020 = salary2020[[\"Player Name\", \"Squad\", \"Annualized Salary\"]]\n",
    "salary2021 = salary2021[[\"Player Name\", \"Squad\", \"Annualized Salary\"]]\n",
    "salary2021 = salary2021.rename(columns={\"Player Name\": \"Player\", \"Annualized Salary\": \"Salary\"})\n",
    "salary2020 = salary2020.rename(columns={\"Player Name\": \"Player\", \"Annualized Salary\": \"Salary 2020\"})\n",
    "defense = defense.loc[defense[\"Year\"] == 2021]\n",
    "defense = defense[[\"Player\", \"Age\", \"Squad\", \"DF\", \"MF\", \"FW\", \"GK\"]]\n",
    "\n",
    "player = salary2020.merge(salary2021, on=[\"Player\", \"Squad\"])\n",
    "player = player.merge(defense, on=[\"Player\",\"Squad\"])\n",
    "\n",
    "player.to_csv(\"player.csv\", index=False)\n",
    "\n",
    "dupes = defense[defense[[\"Player\"]].duplicated(keep=False)]\n",
    "\n",
    "dupes = dupes.sort_values(\"Player\")\n",
    "print(dupes)\n",
    "\n",
    "dupes.to_csv(\"dupes.csv\")\n"
   ]
  },
  {
   "cell_type": "code",
   "execution_count": null,
   "metadata": {},
   "outputs": [],
   "source": []
  },
  {
   "cell_type": "code",
   "execution_count": null,
   "metadata": {},
   "outputs": [],
   "source": []
  }
 ],
 "metadata": {
  "interpreter": {
   "hash": "916dbcbb3f70747c44a77c7bcd40155683ae19c65e1c03b4aa3499c5328201f1"
  },
  "kernelspec": {
   "display_name": "Python 3.8.10 64-bit",
   "language": "python",
   "name": "python3"
  },
  "language_info": {
   "codemirror_mode": {
    "name": "ipython",
    "version": 3
   },
   "file_extension": ".py",
   "mimetype": "text/x-python",
   "name": "python",
   "nbconvert_exporter": "python",
   "pygments_lexer": "ipython3",
   "version": "3.8.10"
  },
  "orig_nbformat": 4
 },
 "nbformat": 4,
 "nbformat_minor": 2
}
