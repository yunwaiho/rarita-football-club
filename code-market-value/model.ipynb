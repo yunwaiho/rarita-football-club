{
 "cells": [
  {
   "cell_type": "code",
   "execution_count": null,
   "metadata": {},
   "outputs": [],
   "source": [
    "import pandas as pd\n",
    "from sklearn.linear_model import GammaRegressor\n",
    "from sklearn.model_selection import train_test_split\n",
    "import numpy as np\n",
    "import seaborn as sns\n",
    "import matplotlib.pyplot as plt\n",
    "from sklearn.preprocessing import StandardScaler\n",
    "from sklearn.pipeline import make_pipeline\n",
    "pd.set_option('display.max_rows', 500)\n"
   ]
  },
  {
   "cell_type": "markdown",
   "metadata": {},
   "source": [
    "## Loading data"
   ]
  },
  {
   "cell_type": "code",
   "execution_count": null,
   "metadata": {},
   "outputs": [],
   "source": [
    "path2021 = \"../data/uefa-data/processed/2021_\"\n",
    "path2020 = \"../data/uefa-data/processed/2020_\"\n",
    "\n",
    "playerStats = pd.read_csv(path2021 + \"player_stats.csv\")\n",
    "defense = pd.read_csv(path2021 + \"defense.csv\")\n",
    "goalkeeping = pd.read_csv(path2021 + \"goalkeeping.csv\")\n",
    "passing = pd.read_csv(path2021 + \"passing.csv\")\n",
    "shooting = pd.read_csv(path2021 + \"shooting.csv\")\n",
    "mv2020 = pd.read_csv(path2020+ \"mv.csv\")\n",
    "\n",
    "\n",
    "defense = playerStats.merge(defense, on = \"Player\")\n",
    "goalkeeping = playerStats.merge(goalkeeping, on = \"Player\")\n",
    "passing = playerStats.merge(passing, on = \"Player\")\n",
    "shooting = playerStats.merge(shooting, on = \"Player\")\n",
    "\n",
    "path = \"../data/processed-data/\"\n",
    "\n",
    "\n",
    "raritaDf = pd.read_csv(path + \"l_defense_clean.csv\", index_col = 0)\n",
    "raritaPs = pd.read_csv(path + \"l_passing_clean.csv\", index_col = 0)\n",
    "raritaGk = pd.read_csv(path + \"l_goalkeeping_clean.csv\", index_col = 0)\n",
    "raritaSh = pd.read_csv(path + \"l_shooting_clean.csv\", index_col = 0)\n",
    "salary2020 = pd.read_csv(path + \"salary_2020.csv\", index_col = 0)\n",
    "salary2021 = pd.read_csv(path + \"salary_2021.csv\", index_col = 0)\n",
    "\n",
    "raritaPlayerStats = raritaDf[[\"Player\", \"Squad\",\"DF\", \"GK\", \"MF\", \"FW\"]]\n",
    "\n"
   ]
  },
  {
   "cell_type": "markdown",
   "metadata": {},
   "source": [
    "## Data exploration"
   ]
  },
  {
   "cell_type": "code",
   "execution_count": null,
   "metadata": {},
   "outputs": [],
   "source": [
    "defense.dropna()[['Player', 'Age', '90s', 'Tack Tkl',\n",
    "       'Tack TklW', 'Tack Def 3rd', 'Tack Mid 3rd', 'Tack Att 3rd', 'Vs D Tkl',\n",
    "       'Vs D Att', 'Vs D Tkl%', 'Vs D Past', 'Pres Press', 'Pres Succ',\n",
    "       'Pres %', 'Pres Def 3rd', 'Pres Mid 3rd', 'Pres Att 3rd', 'Bloc Blocks',\n",
    "       'Bloc Sh', 'Bloc ShSv', 'Bloc Pass', 'Int', 'Tkl+Int', 'Clr', 'Err']].hist(figsize=(10,10))\n",
    "goalkeeping.drop(columns = [\"GK\", \"MF\", \"DF\", \"FW\"]).hist(figsize=(10,10))\n",
    "passing.drop(columns = [\"GK\", \"MF\", \"DF\", \"FW\"]).dropna().hist(figsize=(10,10))\n",
    "shooting.drop(columns = [\"GK\", \"MF\", \"DF\", \"FW\"]).hist(figsize=(10,10))\n",
    "\n",
    "defense.to_csv(\"df.csv\")\n",
    "\n",
    "def plotFeatures(data): \n",
    "    X = data.iloc[:,8:]  #independent columns\n",
    "    y = data.iloc[:,4]    #target column i.e price range\n",
    "    #get correlations of each features in dataset\n",
    "    corrmat = data.corr()\n",
    "    top_corr_features = corrmat.index\n",
    "    plt.figure(figsize=(20,20))\n",
    "    #plot heat map\n",
    "    g=sns.heatmap(data[top_corr_features].corr(method = \"kendall\"),annot=True,cmap=\"RdYlGn\")\n",
    "\n",
    "# diagnostic plots\n",
    "\n",
    "#salary2020.hist(column = \"Annualized Salary\", bins = 20)\n",
    "#salary2021.hist(column = \"Annualized Salary\", bins = 20)\n",
    "\n",
    "#plotFeatures(defense)\n",
    "#plotFeatures(goalkeeping)\n",
    "#plotFeatures(passing)\n",
    "#plotFeatures(shooting)"
   ]
  },
  {
   "cell_type": "markdown",
   "metadata": {},
   "source": [
    "## Data cleaning"
   ]
  },
  {
   "cell_type": "code",
   "execution_count": null,
   "metadata": {},
   "outputs": [],
   "source": [
    "\n",
    "# These are all the 'important' features from visually inspecting the correlation heatmap\n",
    "df = defense.loc[defense[\"DF\"] == 1]\n",
    "df = df[[\"mv\",  \"Age\", \"90s\", \"Tack Tkl\", \"Tack TklW\", \"Tack Mid 3rd\", \"Tack Att 3rd\", \"Vs D Tkl\", \"Vs D Past\", \"Pres Succ\", \"Pres Mid 3rd\", \"Bloc Sh\", \"Bloc Pass\", \"Int\"]]\n",
    "\n",
    "sh = shooting.loc[shooting[\"FW\"] == 1]\n",
    "sh = sh[[\"mv\",  \"Age\", \"90s\", \"Gls\", \"Stan Sh\", \"Stan SoT\", \"Stan G/Sh\", \"Stan FK\", \"Perf PK\", \"Perf PKatt\", \"Expe xG\", \"Expe npxG\", \"Expe npxG/Sh\"]]\n",
    "\n",
    "gk = goalkeeping.loc[goalkeeping[\"GK\"] == 1]\n",
    "gk = gk[[\"mv\", \"Age\", \"90s\", \"Play MP\", \"Play Starts\",  \"Perf GA\", \"Perf SoTA\", \"W\", \"Perf CS\", \"Perf CS%\", \"Pena PKA\"]]\n",
    "\n",
    "ps = passing.loc[passing[\"MF\"] == 1]\n",
    "ps = ps[[\"mv\", \"Age\", \"90s\", \"Tota Cmp\", \"Tota Att\", \"Tota TotDist\", \"Shor Cmp\", \"Shor Att\", \"Long Cmp%\", \"Ast\", \"xA\", \"KP\", \"1/3\", \"PPA\", \"CrsPA\", \"Prog\"]]\n",
    "ps[\"Tota TotDist\"] = ps[\"Tota TotDist\"]/100\n",
    "\n",
    "def remove_empty_rows(df: pd.DataFrame):\n",
    "    # threshold for zero\n",
    "    threshold = 0.1\n",
    "\n",
    "    num = len(df.columns) - 3\n",
    "\n",
    "    for i, row in df.iterrows():\n",
    "        count = 0\n",
    "        for j in row[3:]:\n",
    "            if ((j < threshold or pd.isna(j))):\n",
    "                count += 1\n",
    "\n",
    "        if (count / num > 0.8):\n",
    "            df = df.drop(i)\n",
    "    return df;\n",
    "\n",
    "sh = remove_empty_rows(sh)\n",
    "df = remove_empty_rows(df)\n",
    "ps = remove_empty_rows(ps)\n",
    "gk = remove_empty_rows(gk)\n",
    "\n",
    "df = df.dropna()\n",
    "ps = ps.dropna()\n",
    "sh = sh.dropna()\n",
    "gk = gk.dropna()"
   ]
  },
  {
   "cell_type": "code",
   "execution_count": null,
   "metadata": {},
   "outputs": [],
   "source": [
    "raritaDf = raritaDf.loc[raritaDf[\"Year\"] == 2021]\n",
    "raritaSh = raritaSh.loc[raritaSh[\"Year\"] == 2021]\n",
    "raritaGk = raritaGk.loc[raritaGk[\"Year\"] == 2021]\n",
    "raritaPs = raritaPs.loc[raritaPs[\"Year\"] == 2021]\n",
    "\n",
    "raritaDf = raritaDf.loc[raritaDf[\"DF\"] == 1]\n",
    "raritaDf = raritaDf[[\"Player\",\"Squad\",\"Age\", \"90s\", \"Tackles Tkl\", \"Tackles TklW\", \"Tackles Mid 3rd\", \"Tackles Att 3rd\", \"Vs Dribbles Tkl\", \"Vs Dribbles Past\", \"Pressures Succ\", \"Pressures Mid 3rd\", 'Blocks Sh', \"Blocks Pass\", \"Int\"]]\n",
    "\n",
    "raritaSh = raritaSh.loc[raritaSh[\"FW\"] == 1]\n",
    "raritaSh = raritaSh[[\"Player\",\"Squad\",\"Age\", \"90s\", \"Gls\", \"Standard Sh\", \"Standard SoT\", \"Standard G/Sh\", \"Standard FK\", \"Performance PK\", \"Performance PKatt\", \"Expected xG\", \"Expected npxG\", \"Expected npxG/Sh\"]]\n",
    "\n",
    "raritaGk = raritaGk.loc[raritaGk[\"GK\"] == 1]\n",
    "raritaGk = raritaGk[[\"Player\",\"Squad\",\"Age\", \"Playing Time 90s\", \"Playing Time MP\", \"Playing Time Starts\",  \"Performance GA\", \"Performance SoTA\", \"W\", \"Performance CS\", \"Performance CS%\", \"Penalty Kicks PKA\"]]\n",
    "raritaGk = raritaGk.rename(columns={\"Playing Time 90s\": \"90s\"})\n",
    "\n",
    "raritaPs = raritaPs.loc[raritaPs[\"MF\"] == 1]\n",
    "raritaPs = raritaPs[[\"Player\",\"Squad\", \"Age\", \"90s\", \"Total Cmp\", \"Total Att\", \"Total TotDist\", \"Short Cmp\", \"Short Att\", \"Long Cmp%\", \"Ast\", \"xA\", \"KP\", \"1/3\", \"PPA\", \"CrsPA\", \"Prog\", \"League\"]]\n",
    "raritaPs[\"Total TotDist\"] = raritaPs[\"Total TotDist\"]/100\n",
    "\n",
    "\n",
    "# process all negatives\n",
    "# from this we can see there's no negative values beyond -0.1\n",
    "# might be a reasonable assumption to convert these all to 0\n",
    "for i, s in raritaDf.drop(columns = [\"Player\",\"Squad\"]).iteritems():\n",
    "    print(i, len(s[s < -0])/len(s), len(s[s < -0.1])/len(s))\n",
    "\n",
    "for i, s in raritaSh.drop(columns = [\"Player\",\"Squad\"]).iteritems():\n",
    "    print(i, len(s[s < -0])/len(s), len(s[s < -0.1])/len(s))\n",
    "\n",
    "for i, s in raritaGk.drop(columns = [\"Player\",\"Squad\"]).iteritems():\n",
    "    print(i, len(s[s < -0])/len(s), len(s[s < -0.1])/len(s))\n",
    "\n",
    "for i, s in raritaPs.drop(columns = [\"Player\",\"Squad\", \"League\"]).iteritems():\n",
    "    print(i, len(s[s < -0])/len(s), len(s[s < -0.1])/len(s))\n",
    "\n",
    "for i in [raritaDf, raritaGk, raritaSh, raritaPs]:\n",
    "    num = i._get_numeric_data()\n",
    "    num[num < 0] = 0\n"
   ]
  },
  {
   "cell_type": "code",
   "execution_count": 64,
   "metadata": {},
   "outputs": [
    {
     "name": "stderr",
     "output_type": "stream",
     "text": [
      "/tmp/ipykernel_222/4287486495.py:9: SettingWithCopyWarning: \n",
      "A value is trying to be set on a copy of a slice from a DataFrame.\n",
      "Try using .loc[row_indexer,col_indexer] = value instead\n",
      "\n",
      "See the caveats in the documentation: https://pandas.pydata.org/pandas-docs/stable/user_guide/indexing.html#returning-a-view-versus-a-copy\n",
      "  problem[convert] = problem[convert].div(abs(problem[\"90s\"]), axis = 0).round(decimals = 2)\n"
     ]
    },
    {
     "name": "stdout",
     "output_type": "stream",
     "text": [
      "            Player                   Nation  FW  MF  DF  GK  \\\n",
      "0         i.winter         Danan Seekeeling   0   0   1   0   \n",
      "1      p.nakubulwa                  Dosqaly   0   0   1   0   \n",
      "2       m.mahlangu           Imaar Vircoand   0   0   1   0   \n",
      "3          i.huber           Lenia Gerdanho   0   0   1   0   \n",
      "4     a.kobusingye  People's Land of Maneau   0   0   1   0   \n",
      "...            ...                      ...  ..  ..  ..  ..   \n",
      "5549         f.gan                   Rarita   0   1   0   0   \n",
      "5550     c.mitrovi          Southern Ristan   0   1   1   0   \n",
      "5551     g.mandaza       Greri Landmoslands   1   1   0   0   \n",
      "5552       h.amade                   Rarita   1   1   0   0   \n",
      "5553     h.mirembe                   Rarita   1   1   0   0   \n",
      "\n",
      "                  Squad  Age  Born    90s  ...   Ast    xA  A-xA    KP   1/3  \\\n",
      "0     Fanatical Outlaws   27  1991  13.05  ... -0.04  0.01  0.06 -0.03  1.91   \n",
      "1     Fanatical Outlaws   22  1997  30.63  ...  0.10  0.08 -0.08  0.04  1.64   \n",
      "2     Fanatical Outlaws   34  1985   6.58  ... -0.06  0.14 -0.11  0.59  4.24   \n",
      "3     Fanatical Outlaws   25  1993  10.46  ...  0.16  0.05  0.04  0.50  2.58   \n",
      "4     Fanatical Outlaws   18  2000   4.97  ...  0.10  0.03  0.08 -0.03  0.55   \n",
      "...                 ...  ...   ...    ...  ...   ...   ...   ...   ...   ...   \n",
      "5549       Wild Hornets   20  2000   5.71  ...  0.14  0.15  0.09  1.99  3.57   \n",
      "5550       Wild Hornets   25  1995  27.73  ...  0.10  0.04  0.05  0.48  2.24   \n",
      "5551       Wild Hornets   24  1995  18.42  ...  0.17  0.10 -0.07  1.30  2.49   \n",
      "5552       Wild Hornets   20  2000   4.51  ... -0.04  0.06 -0.09  1.86  3.49   \n",
      "5553       Wild Hornets   19  2001   2.02  ...  0.51  0.02  0.37  0.89  0.03   \n",
      "\n",
      "       PPA  CrsPA  Prog  League  Year  \n",
      "0     0.11   0.07  2.20       A  2020  \n",
      "1    -0.02  -0.08  1.12       A  2020  \n",
      "2     0.83   0.26  4.27       A  2020  \n",
      "3     0.58   0.30  3.56       A  2020  \n",
      "4     0.48   0.15  1.14       A  2020  \n",
      "...    ...    ...   ...     ...   ...  \n",
      "5549  0.54  -0.03  2.01     RFL  2021  \n",
      "5550  0.27   0.14  2.26     RFL  2021  \n",
      "5551  1.13   0.09  3.58     RFL  2021  \n",
      "5552  0.60  -0.02  4.70     RFL  2021  \n",
      "5553  0.00   0.10  0.93     RFL  2021  \n",
      "\n",
      "[5554 rows x 34 columns]\n"
     ]
    },
    {
     "data": {
      "text/plain": [
       "<AxesSubplot:>"
      ]
     },
     "execution_count": 64,
     "metadata": {},
     "output_type": "execute_result"
    },
    {
     "data": {
      "image/png": "[encoded data removed]",
      "text/plain": [
       "<Figure size 432x288 with 1 Axes>"
      ]
     },
     "metadata": {
      "needs_background": "light"
     },
     "output_type": "display_data"
    }
   ],
   "source": [
    "# Converting rows into per 90 values as they seem to not be converted...\n",
    "path = \"../data/processed-data/\"\n",
    "ok = pd.read_csv(path + \"l_passing_clean.csv\", index_col = 0)\n",
    "\n",
    "raritaPs = ok.loc[ok[\"Year\"] == 2021]\n",
    "#raritaPs.boxplot(figsize = (10,10))\n",
    "problem = raritaPs.loc[(raritaPs[\"League\"] == \"D\") | (raritaPs[\"Squad\"] == \"Black Coyotes\") | (raritaPs[\"Squad\"] == \"Serious Buffaloes\") | (raritaPs[\"Squad\"] == \"Strong Oaks\")]\n",
    "convert = problem.columns.difference([\"Player\", \"Nation\", \"FW\",\"MF\",\"DF\",\"GK\",\"Total Cmp%\", \"Short Cmp%\",\"Medium Cmp%\", \"Born\",\"Squad\",\"Age\", \"90s\", \"Long Cmp%\", \"League\", \"Year\"])\n",
    "problem[convert] = problem[convert].div(abs(problem[\"90s\"]), axis = 0).round(decimals = 2)\n",
    "raritaPs.loc[(raritaPs[\"League\"] == \"D\") | (raritaPs[\"Squad\"] == \"Black Coyotes\") | (raritaPs[\"Squad\"] == \"Serious Buffaloes\") | (raritaPs[\"Squad\"] == \"Strong Oaks\")] = problem\n",
    "ok.loc[ok[\"Year\"] == 2021] = raritaPs\n",
    "\n",
    "ok.to_csv(\"ok.csv\")\n",
    "print(ok)\n",
    "ok.loc[ok[\"Year\"] == 2021].boxplot()\n",
    "\n"
   ]
  },
  {
   "cell_type": "code",
   "execution_count": null,
   "metadata": {},
   "outputs": [],
   "source": [
    "# join salary for visualisation later\n",
    "def joinSalary(frame):\n",
    "    frame = frame.dropna()\n",
    "    frame = pd.merge(frame, salary2021[[\"Player Name\", \"Squad\", \"Annualized Salary\"]], right_on = [\"Player Name\", \"Squad\"], left_on=[\"Player\", \"Squad\"])\n",
    "    return frame.drop(columns = \"Player Name\")\n",
    "\n",
    "raritaPs = joinSalary(raritaPs)\n",
    "raritaGk = joinSalary(raritaGk)\n",
    "raritaSh = joinSalary(raritaSh)\n",
    "raritaDf = joinSalary(raritaDf)\n",
    "\n"
   ]
  },
  {
   "cell_type": "code",
   "execution_count": null,
   "metadata": {},
   "outputs": [],
   "source": [
    "# add polynomial age predictor\n",
    "for i in [raritaDf, raritaPs, raritaGk, raritaSh, df, gk, sh, ps]:\n",
    "    i[\"Age^2\"] = pow(i[\"Age\"],2)\n"
   ]
  },
  {
   "cell_type": "markdown",
   "metadata": {},
   "source": [
    "## Building model"
   ]
  },
  {
   "cell_type": "code",
   "execution_count": null,
   "metadata": {},
   "outputs": [],
   "source": [
    "\n",
    "\n",
    "def fitModel(data):\n",
    "    # make train + test split\n",
    "    X = data.drop(columns = [\"mv\"])\n",
    "    y = data[\"mv\"]\n",
    "\n",
    "    XTrain, XTest, yTrain, yTest = train_test_split(X, y, test_size = 0.2, random_state = 114514)\n",
    "\n",
    "    model = make_pipeline(StandardScaler(), GammaRegressor(max_iter=1000))\n",
    "    model.fit(XTrain, yTrain)\n",
    "\n",
    "    #plt.scatter(x= model.predict(XTrain), y =yTrain-model.predict(XTrain))\n",
    "    \n",
    "    yPred = model.predict(XTest)\n",
    "    return model\n",
    "\n",
    "# since columns are not named exactly the same (this is fine because they are\n",
    "# in the same order), sklearn gives a lot of errors\n",
    "import warnings\n",
    "warnings.filterwarnings('ignore') \n",
    "\n",
    "conversionRate = 1.141\n",
    "\n",
    "def showFit(model, raritaData):\n",
    "    predMV  =conversionRate * model.predict(raritaData.dropna().drop(columns = [\"Player\", \"Squad\",\"Annualized Salary\"]))\n",
    "\n",
    "    raritaData = pd.concat([raritaData.dropna(), pd.Series(predMV)], axis = 1)\n",
    "    raritaData = raritaData.rename({0: \"Pred MV\"}, axis = \"columns\")\n",
    "    raritaData.plot.scatter(x = \"Pred MV\", y = \"Annualized Salary\")\n",
    "    return raritaData.drop(columns = \"Annualized Salary\")\n",
    "\n",
    "dfModel = fitModel(df)\n",
    "shModel = fitModel(sh)\n",
    "psModel = fitModel(ps)\n",
    "gkModel = fitModel(gk)\n",
    "\n",
    "raritaDf = showFit(dfModel, raritaDf)\n",
    "raritaSh = showFit(shModel, raritaSh)\n",
    "raritaGk =showFit(gkModel, raritaGk)\n",
    "raritaPs = showFit(psModel, raritaPs)\n",
    "\n",
    "raritaDf[\"Pos\"] = \"DF\"\n",
    "raritaSh[\"Pos\"] = \"FW\"\n",
    "raritaPs[\"Pos\"] = \"MF\"\n",
    "raritaGk[\"Pos\"] = \"GK\"\n"
   ]
  },
  {
   "cell_type": "code",
   "execution_count": null,
   "metadata": {},
   "outputs": [],
   "source": [
    "print(raritaPlayerStats)\n",
    "def predict_future_10(model, dataRow):\n",
    "    future_10 = {}\n",
    "    for i in range(10):\n",
    "        dataRow[\"Age\"] = dataRow[\"Age\"] + i + 1\n",
    "        dataRow[\"Age^2\"] = pow(dataRow[\"Age\"], 2)\n",
    "        predMV = conversionRate * model.predict(dataRow.dropna().drop(columns = [\"Player\", \"Squad\"]))\n",
    "\n",
    "        future_10[\"Salary \"+ str(i+1)] = predMV\n",
    "\n",
    "    print(future_10)\n",
    "\n",
    "for i, s in raritaPlayerStats.iterrows():\n",
    "    dfPlayers = raritaDf.loc[(raritaDf['Player'] == s[\"Player\"]) & (raritaDf['Squad'] == s[\"Squad\"])]\n",
    "    shPlayers = raritaSh.loc[(raritaSh['Player'] == s[\"Player\"]) & (raritaSh['Squad'] == s[\"Squad\"])]\n",
    "    psPlayers = raritaPs.loc[(raritaPs['Player'] == s[\"Player\"]) & (raritaPs['Squad'] == s[\"Squad\"])]\n",
    "    gkPlayers = raritaGk.loc[(raritaGk['Player'] == s[\"Player\"]) & (raritaGk['Squad'] == s[\"Squad\"])]\n",
    "\n",
    "    numPosition = s[\"DF\"] + s[\"GK\"] + s[\"MF\"] + s[\"FW\"]\n",
    "    # player plays more than 1 position, get strongest position\n",
    "    pos = \"\"\n",
    "    \n",
    "    if (numPosition > 1):\n",
    "        max_mv = 0\n",
    "        \n",
    "        for j in [dfPlayers, shPlayers, gkPlayers, psPlayers]:\n",
    "            if (j.empty == False and j[\"Pred MV\"] > max_mv):\n",
    "                max_mv = j[\"Pred MV\"]\n",
    "                max_pos = j[\"Pos\"]\n",
    "    else:\n",
    "        for j in [dfPlayers, shPlayers, gkPlayers, psPlayers]:\n",
    "            if (j.empty == False):\n",
    "                pos = j[\"Pos\"]\n",
    "    print(pos)\n",
    "    if (pos[0] == \"DF\"):\n",
    "        predict_future_10(dfModel, s)\n",
    "        \n",
    "\n",
    "\n",
    "\n",
    "            \n",
    "\n",
    "\n"
   ]
  },
  {
   "cell_type": "code",
   "execution_count": null,
   "metadata": {},
   "outputs": [],
   "source": []
  }
 ],
 "metadata": {
  "interpreter": {
   "hash": "916dbcbb3f70747c44a77c7bcd40155683ae19c65e1c03b4aa3499c5328201f1"
  },
  "kernelspec": {
   "display_name": "Python 3.8.10 64-bit",
   "language": "python",
   "name": "python3"
  },
  "language_info": {
   "codemirror_mode": {
    "name": "ipython",
    "version": 3
   },
   "file_extension": ".py",
   "mimetype": "text/x-python",
   "name": "python",
   "nbconvert_exporter": "python",
   "pygments_lexer": "ipython3",
   "version": "3.8.10"
  },
  "orig_nbformat": 4
 },
 "nbformat": 4,
 "nbformat_minor": 2
}
